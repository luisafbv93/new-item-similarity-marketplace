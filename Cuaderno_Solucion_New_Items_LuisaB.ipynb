{
 "cells": [
  {
   "cell_type": "markdown",
   "metadata": {},
   "source": [
    "# Data Science Interview\n",
    "\n",
    "## Take Home: New Items\n",
    "\n",
    "### Luisa Benavides Vargas\n",
    "\n",
    "\n",
    "### Octubre 2022"
   ]
  },
  {
   "cell_type": "markdown",
   "metadata": {},
   "source": [
    "### Requerido\n",
    "\n",
    "- **Data QA:** Se debe chequear la calidad del dataset para hacer una evaluación de qué tan apropiados son los datos para tareas de Data Science. Proponga un conjunto de correcciones en los datos de ser necesario.\n",
    "- **Reporting:** Documente los resultados e insights obtenidos durante la exploración y describa conclusiones desde una perspectiva de negocio, soportado por gráficos / tablas / métricas.\n",
    "- **Feature Engineering:** Indicar y calcular posibles candidatos de features que podrían utilizarse para predecir los ítems semejantes, tanto desde las columnas originales como desde transformaciones.\n",
    "- **Modelo predictivo:** Realice un modelo predictivo capaz de encontrar los 5 ítems más semejantes (proponga una definición de semejanza que considere el negocio de Mercado Libre)."
   ]
  },
  {
   "cell_type": "code",
   "execution_count": 88,
   "metadata": {},
   "outputs": [],
   "source": [
    "# Librerias\n",
    "import pandas as pd\n",
    "import numpy as np\n",
    "import matplotlib.pyplot as plt\n",
    "import seaborn as sns\n",
    "import plotly.express as px\n",
    "import string\n",
    "import re\n",
    "from kmodes.kmodes import KModes\n",
    "from sklearn import preprocessing\n",
    "from sentence_transformers import SentenceTransformer, util\n",
    "from collections import Counter\n",
    "import math\n",
    "import io\n",
    "import torch\n",
    "from operator import index\n",
    "from sklearn.metrics.pairwise import euclidean_distances\n",
    "import csv\n",
    "import joblib"
   ]
  },
  {
   "cell_type": "code",
   "execution_count": 89,
   "metadata": {},
   "outputs": [
    {
     "name": "stderr",
     "output_type": "stream",
     "text": [
      "C:\\Users\\lufbenav\\AppData\\Roaming\\Python\\Python37\\site-packages\\IPython\\core\\interactiveshell.py:3553: DtypeWarning:\n",
      "\n",
      "Columns (7,14,15) have mixed types.Specify dtype option on import or set low_memory=False.\n",
      "\n"
     ]
    },
    {
     "data": {
      "text/html": [
       "<div>\n",
       "<style scoped>\n",
       "    .dataframe tbody tr th:only-of-type {\n",
       "        vertical-align: middle;\n",
       "    }\n",
       "\n",
       "    .dataframe tbody tr th {\n",
       "        vertical-align: top;\n",
       "    }\n",
       "\n",
       "    .dataframe thead th {\n",
       "        text-align: right;\n",
       "    }\n",
       "</style>\n",
       "<table border=\"1\" class=\"dataframe\">\n",
       "  <thead>\n",
       "    <tr style=\"text-align: right;\">\n",
       "      <th></th>\n",
       "      <th>id</th>\n",
       "      <th>title</th>\n",
       "      <th>date_created</th>\n",
       "      <th>base_price</th>\n",
       "      <th>price</th>\n",
       "      <th>category_id</th>\n",
       "      <th>tags</th>\n",
       "      <th>seller_id</th>\n",
       "      <th>seller_country</th>\n",
       "      <th>seller_province</th>\n",
       "      <th>...</th>\n",
       "      <th>shipping_mode</th>\n",
       "      <th>shipping_admits_pickup</th>\n",
       "      <th>shipping_is_free</th>\n",
       "      <th>status</th>\n",
       "      <th>sub_status</th>\n",
       "      <th>warranty</th>\n",
       "      <th>is_new</th>\n",
       "      <th>initial_quantity</th>\n",
       "      <th>sold_quantity</th>\n",
       "      <th>available_quantity</th>\n",
       "    </tr>\n",
       "  </thead>\n",
       "  <tbody>\n",
       "    <tr>\n",
       "      <th>0</th>\n",
       "      <td>MLA578569012</td>\n",
       "      <td>Escritorio Secretter Espectacular</td>\n",
       "      <td>2015-09-08T21:17:57.000Z</td>\n",
       "      <td>6700.0</td>\n",
       "      <td>6700.0</td>\n",
       "      <td>MLA1902</td>\n",
       "      <td>['dragged_bids_and_visits']</td>\n",
       "      <td>99151748</td>\n",
       "      <td>Argentina</td>\n",
       "      <td>Buenos Aires</td>\n",
       "      <td>...</td>\n",
       "      <td>custom</td>\n",
       "      <td>True</td>\n",
       "      <td>False</td>\n",
       "      <td>active</td>\n",
       "      <td>NaN</td>\n",
       "      <td>NaN</td>\n",
       "      <td>0</td>\n",
       "      <td>1.0</td>\n",
       "      <td>0.0</td>\n",
       "      <td>1.0</td>\n",
       "    </tr>\n",
       "    <tr>\n",
       "      <th>1</th>\n",
       "      <td>MLA576883746</td>\n",
       "      <td>Stassen Espatulas Milenio Numero 3 Codigo 590-3</td>\n",
       "      <td>2015-08-29T12:55:03.000Z</td>\n",
       "      <td>119.0</td>\n",
       "      <td>119.0</td>\n",
       "      <td>MLA3530</td>\n",
       "      <td>['dragged_bids_and_visits']</td>\n",
       "      <td>65545512</td>\n",
       "      <td>Argentina</td>\n",
       "      <td>Capital Federal</td>\n",
       "      <td>...</td>\n",
       "      <td>not_specified</td>\n",
       "      <td>False</td>\n",
       "      <td>False</td>\n",
       "      <td>active</td>\n",
       "      <td>NaN</td>\n",
       "      <td>SÃ­</td>\n",
       "      <td>1</td>\n",
       "      <td>19.0</td>\n",
       "      <td>0.0</td>\n",
       "      <td>19.0</td>\n",
       "    </tr>\n",
       "  </tbody>\n",
       "</table>\n",
       "<p>2 rows × 23 columns</p>\n",
       "</div>"
      ],
      "text/plain": [
       "             id                                            title  \\\n",
       "0  MLA578569012                Escritorio Secretter Espectacular   \n",
       "1  MLA576883746  Stassen Espatulas Milenio Numero 3 Codigo 590-3   \n",
       "\n",
       "               date_created  base_price   price category_id  \\\n",
       "0  2015-09-08T21:17:57.000Z      6700.0  6700.0     MLA1902   \n",
       "1  2015-08-29T12:55:03.000Z       119.0   119.0     MLA3530   \n",
       "\n",
       "                          tags seller_id seller_country  seller_province  ...  \\\n",
       "0  ['dragged_bids_and_visits']  99151748      Argentina     Buenos Aires  ...   \n",
       "1  ['dragged_bids_and_visits']  65545512      Argentina  Capital Federal  ...   \n",
       "\n",
       "   shipping_mode shipping_admits_pickup shipping_is_free  status sub_status  \\\n",
       "0         custom                   True            False  active        NaN   \n",
       "1  not_specified                  False            False  active        NaN   \n",
       "\n",
       "  warranty is_new initial_quantity sold_quantity  available_quantity  \n",
       "0      NaN      0              1.0           0.0                 1.0  \n",
       "1      SÃ­      1             19.0           0.0                19.0  \n",
       "\n",
       "[2 rows x 23 columns]"
      ]
     },
     "execution_count": 89,
     "metadata": {},
     "output_type": "execute_result"
    }
   ],
   "source": [
    "# Cargar datos\n",
    "new_items = pd.read_csv(\"new_items_dataset-v202205.csv\", encoding='latin-1')\n",
    "new_items.head(2)"
   ]
  },
  {
   "cell_type": "markdown",
   "metadata": {},
   "source": [
    "### **Data QA:** \n",
    "Se debe chequear la calidad del dataset para hacer una evaluación de qué tan apropiados son los datos para tareas de Data Science. Proponga un conjunto de correcciones en los datos de ser necesario."
   ]
  },
  {
   "cell_type": "code",
   "execution_count": 90,
   "metadata": {},
   "outputs": [
    {
     "name": "stdout",
     "output_type": "stream",
     "text": [
      "<class 'pandas.core.frame.DataFrame'>\n",
      "RangeIndex: 100000 entries, 0 to 99999\n",
      "Data columns (total 23 columns):\n",
      " #   Column                  Non-Null Count   Dtype  \n",
      "---  ------                  --------------   -----  \n",
      " 0   id                      99996 non-null   object \n",
      " 1   title                   99996 non-null   object \n",
      " 2   date_created            99996 non-null   object \n",
      " 3   base_price              99996 non-null   float64\n",
      " 4   price                   99992 non-null   float64\n",
      " 5   category_id             99996 non-null   object \n",
      " 6   tags                    99996 non-null   object \n",
      " 7   seller_id               99996 non-null   object \n",
      " 8   seller_country          99993 non-null   object \n",
      " 9   seller_province         99993 non-null   object \n",
      " 10  seller_city             99992 non-null   object \n",
      " 11  seller_loyalty          99996 non-null   object \n",
      " 12  buying_mode             99996 non-null   object \n",
      " 13  shipping_mode           99996 non-null   object \n",
      " 14  shipping_admits_pickup  99996 non-null   object \n",
      " 15  shipping_is_free        99996 non-null   object \n",
      " 16  status                  99996 non-null   object \n",
      " 17  sub_status              986 non-null     object \n",
      " 18  warranty                39106 non-null   object \n",
      " 19  is_new                  100000 non-null  int64  \n",
      " 20  initial_quantity        99996 non-null   float64\n",
      " 21  sold_quantity           99996 non-null   float64\n",
      " 22  available_quantity      99996 non-null   float64\n",
      "dtypes: float64(5), int64(1), object(17)\n",
      "memory usage: 17.5+ MB\n"
     ]
    }
   ],
   "source": [
    "# Revisar tipo de datos\n",
    "new_items.info()"
   ]
  },
  {
   "cell_type": "markdown",
   "metadata": {},
   "source": [
    "Substatus tiene una alta cantidad de valores nulos. Warranty también pero puede ser usada como variable categórica."
   ]
  },
  {
   "cell_type": "code",
   "execution_count": 91,
   "metadata": {},
   "outputs": [],
   "source": [
    "# Eliminar nulos y columnas con poca informacion\n",
    "df = new_items.copy().drop(columns=[\"sub_status\"])\n",
    "df.warranty = df.warranty.fillna('0')\n",
    "df = df.dropna().reset_index()"
   ]
  },
  {
   "cell_type": "code",
   "execution_count": 92,
   "metadata": {},
   "outputs": [
    {
     "name": "stdout",
     "output_type": "stream",
     "text": [
      "<class 'pandas.core.frame.DataFrame'>\n",
      "RangeIndex: 99988 entries, 0 to 99987\n",
      "Data columns (total 23 columns):\n",
      " #   Column                  Non-Null Count  Dtype              \n",
      "---  ------                  --------------  -----              \n",
      " 0   index                   99988 non-null  int64              \n",
      " 1   id                      99988 non-null  string             \n",
      " 2   title                   99988 non-null  string             \n",
      " 3   date_created            99988 non-null  datetime64[ns, UTC]\n",
      " 4   base_price              99988 non-null  float64            \n",
      " 5   price                   99988 non-null  float64            \n",
      " 6   category_id             99988 non-null  category           \n",
      " 7   tags                    99988 non-null  category           \n",
      " 8   seller_id               99988 non-null  string             \n",
      " 9   seller_country          99988 non-null  category           \n",
      " 10  seller_province         99988 non-null  category           \n",
      " 11  seller_city             99988 non-null  category           \n",
      " 12  seller_loyalty          99988 non-null  category           \n",
      " 13  buying_mode             99988 non-null  category           \n",
      " 14  shipping_mode           99988 non-null  category           \n",
      " 15  shipping_admits_pickup  99988 non-null  category           \n",
      " 16  shipping_is_free        99988 non-null  category           \n",
      " 17  status                  99988 non-null  category           \n",
      " 18  warranty                99988 non-null  string             \n",
      " 19  is_new                  99988 non-null  category           \n",
      " 20  initial_quantity        99988 non-null  float64            \n",
      " 21  sold_quantity           99988 non-null  float64            \n",
      " 22  available_quantity      99988 non-null  float64            \n",
      "dtypes: category(12), datetime64[ns, UTC](1), float64(5), int64(1), string(4)\n",
      "memory usage: 10.2 MB\n"
     ]
    }
   ],
   "source": [
    "# definir datatypes\n",
    "## numerico\n",
    "list_num = pd.Series([\n",
    "    \"base_price\",\n",
    "    \"price\",\n",
    "    \"initial_quantity\",\t\n",
    "    \"sold_quantity\",\t\n",
    "    \"available_quantity\"\n",
    "])\n",
    "for col in list_num:\n",
    "    df[col] = df[col].astype('float64')\n",
    "\n",
    "## categoria\n",
    "list_cat = pd.Series([\n",
    "    \"category_id\",\t\n",
    "    \"tags\",\t\n",
    "    \"seller_country\",\t\n",
    "    \"seller_province\",\t\n",
    "    \"seller_city\",\t\n",
    "    \"seller_loyalty\",\t\n",
    "    \"buying_mode\",\t\n",
    "    \"shipping_mode\",\t\n",
    "    \"shipping_admits_pickup\",\t\n",
    "    \"shipping_is_free\",\t\n",
    "    \"status\",\n",
    "    \"is_new\"\n",
    "])\n",
    "for col in list_cat:\n",
    "    df[col] = df[col].astype('category')\n",
    "\n",
    "## texto\n",
    "list_txt = pd.Series([\n",
    "    \"id\",\n",
    "    \"title\",\n",
    "    \"warranty\",\n",
    "    \"seller_id\"\n",
    "])\n",
    "for col in list_txt:\n",
    "    df[col] = df[col].astype('string')\n",
    "\n",
    "## date\n",
    "df['date_created'] = pd.to_datetime(df['date_created'])\n",
    "\n",
    "df.info()"
   ]
  },
  {
   "cell_type": "code",
   "execution_count": 93,
   "metadata": {},
   "outputs": [
    {
     "data": {
      "text/html": [
       "<div>\n",
       "<style scoped>\n",
       "    .dataframe tbody tr th:only-of-type {\n",
       "        vertical-align: middle;\n",
       "    }\n",
       "\n",
       "    .dataframe tbody tr th {\n",
       "        vertical-align: top;\n",
       "    }\n",
       "\n",
       "    .dataframe thead th {\n",
       "        text-align: right;\n",
       "    }\n",
       "</style>\n",
       "<table border=\"1\" class=\"dataframe\">\n",
       "  <thead>\n",
       "    <tr style=\"text-align: right;\">\n",
       "      <th></th>\n",
       "      <th>ndif</th>\n",
       "      <th>col</th>\n",
       "      <th>variable</th>\n",
       "      <th>frecuencia</th>\n",
       "    </tr>\n",
       "  </thead>\n",
       "  <tbody>\n",
       "    <tr>\n",
       "      <th>0</th>\n",
       "      <td>10907</td>\n",
       "      <td>category_id</td>\n",
       "      <td>MLA1227</td>\n",
       "      <td>0.045936</td>\n",
       "    </tr>\n",
       "    <tr>\n",
       "      <th>1</th>\n",
       "      <td>10907</td>\n",
       "      <td>category_id</td>\n",
       "      <td>MLA2044</td>\n",
       "      <td>0.019492</td>\n",
       "    </tr>\n",
       "    <tr>\n",
       "      <th>2</th>\n",
       "      <td>10907</td>\n",
       "      <td>category_id</td>\n",
       "      <td>MLA41287</td>\n",
       "      <td>0.009321</td>\n",
       "    </tr>\n",
       "    <tr>\n",
       "      <th>3</th>\n",
       "      <td>8</td>\n",
       "      <td>tags</td>\n",
       "      <td>['dragged_bids_and_visits']</td>\n",
       "      <td>0.725497</td>\n",
       "    </tr>\n",
       "    <tr>\n",
       "      <th>4</th>\n",
       "      <td>8</td>\n",
       "      <td>tags</td>\n",
       "      <td>[]</td>\n",
       "      <td>0.249120</td>\n",
       "    </tr>\n",
       "    <tr>\n",
       "      <th>5</th>\n",
       "      <td>8</td>\n",
       "      <td>tags</td>\n",
       "      <td>['good_quality_thumbnail', 'dragged_bids_and_v...</td>\n",
       "      <td>0.013302</td>\n",
       "    </tr>\n",
       "    <tr>\n",
       "      <th>6</th>\n",
       "      <td>1</td>\n",
       "      <td>seller_country</td>\n",
       "      <td>Argentina</td>\n",
       "      <td>1.000000</td>\n",
       "    </tr>\n",
       "    <tr>\n",
       "      <th>7</th>\n",
       "      <td>24</td>\n",
       "      <td>seller_province</td>\n",
       "      <td>Capital Federal</td>\n",
       "      <td>0.578539</td>\n",
       "    </tr>\n",
       "    <tr>\n",
       "      <th>8</th>\n",
       "      <td>24</td>\n",
       "      <td>seller_province</td>\n",
       "      <td>Buenos Aires</td>\n",
       "      <td>0.350162</td>\n",
       "    </tr>\n",
       "    <tr>\n",
       "      <th>9</th>\n",
       "      <td>24</td>\n",
       "      <td>seller_province</td>\n",
       "      <td>Santa Fe</td>\n",
       "      <td>0.026723</td>\n",
       "    </tr>\n",
       "    <tr>\n",
       "      <th>10</th>\n",
       "      <td>3655</td>\n",
       "      <td>seller_city</td>\n",
       "      <td>CABA</td>\n",
       "      <td>0.040985</td>\n",
       "    </tr>\n",
       "    <tr>\n",
       "      <th>11</th>\n",
       "      <td>3655</td>\n",
       "      <td>seller_city</td>\n",
       "      <td>Buenos Aires</td>\n",
       "      <td>0.034204</td>\n",
       "    </tr>\n",
       "    <tr>\n",
       "      <th>12</th>\n",
       "      <td>3655</td>\n",
       "      <td>seller_city</td>\n",
       "      <td>Capital Federal</td>\n",
       "      <td>0.034024</td>\n",
       "    </tr>\n",
       "    <tr>\n",
       "      <th>13</th>\n",
       "      <td>7</td>\n",
       "      <td>seller_loyalty</td>\n",
       "      <td>bronze</td>\n",
       "      <td>0.631706</td>\n",
       "    </tr>\n",
       "    <tr>\n",
       "      <th>14</th>\n",
       "      <td>7</td>\n",
       "      <td>seller_loyalty</td>\n",
       "      <td>free</td>\n",
       "      <td>0.213876</td>\n",
       "    </tr>\n",
       "    <tr>\n",
       "      <th>15</th>\n",
       "      <td>7</td>\n",
       "      <td>seller_loyalty</td>\n",
       "      <td>silver</td>\n",
       "      <td>0.091151</td>\n",
       "    </tr>\n",
       "    <tr>\n",
       "      <th>16</th>\n",
       "      <td>3</td>\n",
       "      <td>buying_mode</td>\n",
       "      <td>buy_it_now</td>\n",
       "      <td>0.970026</td>\n",
       "    </tr>\n",
       "    <tr>\n",
       "      <th>17</th>\n",
       "      <td>3</td>\n",
       "      <td>buying_mode</td>\n",
       "      <td>classified</td>\n",
       "      <td>0.022173</td>\n",
       "    </tr>\n",
       "    <tr>\n",
       "      <th>18</th>\n",
       "      <td>3</td>\n",
       "      <td>buying_mode</td>\n",
       "      <td>auction</td>\n",
       "      <td>0.007801</td>\n",
       "    </tr>\n",
       "    <tr>\n",
       "      <th>19</th>\n",
       "      <td>4</td>\n",
       "      <td>shipping_mode</td>\n",
       "      <td>me2</td>\n",
       "      <td>0.512582</td>\n",
       "    </tr>\n",
       "    <tr>\n",
       "      <th>20</th>\n",
       "      <td>4</td>\n",
       "      <td>shipping_mode</td>\n",
       "      <td>not_specified</td>\n",
       "      <td>0.451694</td>\n",
       "    </tr>\n",
       "    <tr>\n",
       "      <th>21</th>\n",
       "      <td>4</td>\n",
       "      <td>shipping_mode</td>\n",
       "      <td>custom</td>\n",
       "      <td>0.034794</td>\n",
       "    </tr>\n",
       "    <tr>\n",
       "      <th>22</th>\n",
       "      <td>4</td>\n",
       "      <td>shipping_admits_pickup</td>\n",
       "      <td>True</td>\n",
       "      <td>0.521373</td>\n",
       "    </tr>\n",
       "    <tr>\n",
       "      <th>23</th>\n",
       "      <td>4</td>\n",
       "      <td>shipping_admits_pickup</td>\n",
       "      <td>True</td>\n",
       "      <td>0.274273</td>\n",
       "    </tr>\n",
       "    <tr>\n",
       "      <th>24</th>\n",
       "      <td>4</td>\n",
       "      <td>shipping_admits_pickup</td>\n",
       "      <td>False</td>\n",
       "      <td>0.133956</td>\n",
       "    </tr>\n",
       "    <tr>\n",
       "      <th>25</th>\n",
       "      <td>4</td>\n",
       "      <td>shipping_is_free</td>\n",
       "      <td>False</td>\n",
       "      <td>0.635906</td>\n",
       "    </tr>\n",
       "    <tr>\n",
       "      <th>26</th>\n",
       "      <td>4</td>\n",
       "      <td>shipping_is_free</td>\n",
       "      <td>False</td>\n",
       "      <td>0.333930</td>\n",
       "    </tr>\n",
       "    <tr>\n",
       "      <th>27</th>\n",
       "      <td>4</td>\n",
       "      <td>shipping_is_free</td>\n",
       "      <td>True</td>\n",
       "      <td>0.019422</td>\n",
       "    </tr>\n",
       "    <tr>\n",
       "      <th>28</th>\n",
       "      <td>4</td>\n",
       "      <td>status</td>\n",
       "      <td>active</td>\n",
       "      <td>0.956755</td>\n",
       "    </tr>\n",
       "    <tr>\n",
       "      <th>29</th>\n",
       "      <td>4</td>\n",
       "      <td>status</td>\n",
       "      <td>paused</td>\n",
       "      <td>0.043035</td>\n",
       "    </tr>\n",
       "    <tr>\n",
       "      <th>30</th>\n",
       "      <td>4</td>\n",
       "      <td>status</td>\n",
       "      <td>closed</td>\n",
       "      <td>0.000200</td>\n",
       "    </tr>\n",
       "    <tr>\n",
       "      <th>31</th>\n",
       "      <td>2</td>\n",
       "      <td>is_new</td>\n",
       "      <td>1</td>\n",
       "      <td>0.537585</td>\n",
       "    </tr>\n",
       "    <tr>\n",
       "      <th>32</th>\n",
       "      <td>2</td>\n",
       "      <td>is_new</td>\n",
       "      <td>0</td>\n",
       "      <td>0.462415</td>\n",
       "    </tr>\n",
       "  </tbody>\n",
       "</table>\n",
       "</div>"
      ],
      "text/plain": [
       "     ndif                     col  \\\n",
       "0   10907             category_id   \n",
       "1   10907             category_id   \n",
       "2   10907             category_id   \n",
       "3       8                    tags   \n",
       "4       8                    tags   \n",
       "5       8                    tags   \n",
       "6       1          seller_country   \n",
       "7      24         seller_province   \n",
       "8      24         seller_province   \n",
       "9      24         seller_province   \n",
       "10   3655             seller_city   \n",
       "11   3655             seller_city   \n",
       "12   3655             seller_city   \n",
       "13      7          seller_loyalty   \n",
       "14      7          seller_loyalty   \n",
       "15      7          seller_loyalty   \n",
       "16      3             buying_mode   \n",
       "17      3             buying_mode   \n",
       "18      3             buying_mode   \n",
       "19      4           shipping_mode   \n",
       "20      4           shipping_mode   \n",
       "21      4           shipping_mode   \n",
       "22      4  shipping_admits_pickup   \n",
       "23      4  shipping_admits_pickup   \n",
       "24      4  shipping_admits_pickup   \n",
       "25      4        shipping_is_free   \n",
       "26      4        shipping_is_free   \n",
       "27      4        shipping_is_free   \n",
       "28      4                  status   \n",
       "29      4                  status   \n",
       "30      4                  status   \n",
       "31      2                  is_new   \n",
       "32      2                  is_new   \n",
       "\n",
       "                                             variable  frecuencia  \n",
       "0                                             MLA1227    0.045936  \n",
       "1                                             MLA2044    0.019492  \n",
       "2                                            MLA41287    0.009321  \n",
       "3                         ['dragged_bids_and_visits']    0.725497  \n",
       "4                                                  []    0.249120  \n",
       "5   ['good_quality_thumbnail', 'dragged_bids_and_v...    0.013302  \n",
       "6                                           Argentina    1.000000  \n",
       "7                                     Capital Federal    0.578539  \n",
       "8                                        Buenos Aires    0.350162  \n",
       "9                                            Santa Fe    0.026723  \n",
       "10                                               CABA    0.040985  \n",
       "11                                       Buenos Aires    0.034204  \n",
       "12                                    Capital Federal    0.034024  \n",
       "13                                             bronze    0.631706  \n",
       "14                                               free    0.213876  \n",
       "15                                             silver    0.091151  \n",
       "16                                         buy_it_now    0.970026  \n",
       "17                                         classified    0.022173  \n",
       "18                                            auction    0.007801  \n",
       "19                                                me2    0.512582  \n",
       "20                                      not_specified    0.451694  \n",
       "21                                             custom    0.034794  \n",
       "22                                               True    0.521373  \n",
       "23                                               True    0.274273  \n",
       "24                                              False    0.133956  \n",
       "25                                              False    0.635906  \n",
       "26                                              False    0.333930  \n",
       "27                                               True    0.019422  \n",
       "28                                             active    0.956755  \n",
       "29                                             paused    0.043035  \n",
       "30                                             closed    0.000200  \n",
       "31                                                  1    0.537585  \n",
       "32                                                  0    0.462415  "
      ]
     },
     "execution_count": 93,
     "metadata": {},
     "output_type": "execute_result"
    }
   ],
   "source": [
    "df2 = pd.DataFrame()\n",
    "for x in list_cat:\n",
    "    df_new = pd.DataFrame(columns=[\"ndif\", \"col\", \"variable\", \"frecuencia\"])\n",
    "    df_conteo = df[x].value_counts(normalize=True)\n",
    "    df_new[\"variable\"] = df_conteo.index\n",
    "    df_new[\"frecuencia\"] = df_conteo.values\n",
    "    df_new[\"col\"] = x\n",
    "    df_new[\"ndif\"] = df[x].nunique()\n",
    "    df_new = df_new.sort_values(by=[\"frecuencia\"], ascending=False).head(3)\n",
    "    df2 = df2.append(df_new, ignore_index=True)\n",
    "df2"
   ]
  },
  {
   "cell_type": "markdown",
   "metadata": {},
   "source": [
    "Para las variables categóricas es útil revisar la frecuencia que presenta cada uno de los valores que puede tomar la categoría. Esto permite saber cuales son los valores que dominan cada variable. De la revisión anterior de la frecuencia se nota que: \n",
    "\n",
    "1. tags: está dominado por un mismo valor \"['dragged_bids_and_visits']\" \n",
    "2. seller_country: Todos los artículos son de Argentina \n",
    "3. seller_province: 93% son de \"Ciudad Federal\" y \"Buenos Aires\"\n",
    "4. seller_city: 3655 ciudades \n",
    "5. buying_mode: 97% de los ítems son buy it now \n",
    "6. shipping_mode: 45% de los ítems no especifican el método de envío\n",
    "7. shipping_is_free: solo se especifica True para el 2% de los ítems\n",
    "8. status: el 95% de las publicaciones están activas\n",
    "\n",
    "Teniendo en cuenta esta información observada no se tendrán en cuenta para el análisis las variables ya que están principalmente definidas por el mismo valor: tags, seller_country, buying_mode, shipping_is_free, status. \n",
    "\n",
    "Para las demás categorías como provincia, ciudad, shipping_mode se puede realizar una reclasificación de las entradas de cada campo para que siempre estén dentro de un rango de variables predefinidas. Por ejemplo para provincia se pueden definir los valores \"Ciudad Federal\", \"Buenos Aires\" y \"Otras Provincias\", esto con el fin de reducir la dimensionalidad de cada columna. "
   ]
  },
  {
   "cell_type": "code",
   "execution_count": 94,
   "metadata": {},
   "outputs": [],
   "source": [
    "# elimnar col \n",
    "df_items = df.drop(columns=[\"index\", \"tags\", \"seller_country\", \"buying_mode\", \"shipping_is_free\", \"status\"])"
   ]
  },
  {
   "cell_type": "markdown",
   "metadata": {},
   "source": [
    "### **Reporting:** \n",
    "\n",
    "Documente los resultados e insights obtenidos durante la exploración y describa conclusiones desde una perspectiva de negocio, soportado por gráficos / tablas / métricas.\n",
    "\n",
    "### **Feature Engineering:** \n",
    "\n",
    "Indicar y calcular posibles candidatos de features que podrían utilizarse para predecir los ítems semejantes, tanto desde las columnas originales como desde transformaciones.\n",
    "\n",
    "--------------------------------------------------\n",
    "\n",
    "Fueron 17 columnas resultantes del análisis de la calidad de los datos. Sobre estos datos se realiza el análisis exploratorio de los datos y el posterior modelo de predicción. "
   ]
  },
  {
   "cell_type": "code",
   "execution_count": 95,
   "metadata": {},
   "outputs": [
    {
     "data": {
      "text/plain": [
       "Index(['id', 'title', 'date_created', 'base_price', 'price', 'category_id',\n",
       "       'seller_id', 'seller_province', 'seller_city', 'seller_loyalty',\n",
       "       'shipping_mode', 'shipping_admits_pickup', 'warranty', 'is_new',\n",
       "       'initial_quantity', 'sold_quantity', 'available_quantity'],\n",
       "      dtype='object')"
      ]
     },
     "execution_count": 95,
     "metadata": {},
     "output_type": "execute_result"
    }
   ],
   "source": [
    "df_items.columns"
   ]
  },
  {
   "cell_type": "markdown",
   "metadata": {},
   "source": [
    "#### Variables numéricas\n",
    "\n",
    "- Correlación de variables numéricas: "
   ]
  },
  {
   "cell_type": "code",
   "execution_count": 96,
   "metadata": {},
   "outputs": [
    {
     "data": {
      "text/plain": [
       "<AxesSubplot:>"
      ]
     },
     "execution_count": 96,
     "metadata": {},
     "output_type": "execute_result"
    },
    {
     "data": {
      "image/png": "[encoded data removed]",
      "text/plain": [
       "<Figure size 600x300 with 2 Axes>"
      ]
     },
     "metadata": {},
     "output_type": "display_data"
    }
   ],
   "source": [
    "# corr\n",
    "sns.set(rc={'figure.figsize':(6,3)})\n",
    "sns.heatmap(df_items.corr(), annot=True, annot_kws={\"size\": 7})"
   ]
  },
  {
   "cell_type": "code",
   "execution_count": 97,
   "metadata": {},
   "outputs": [
    {
     "name": "stdout",
     "output_type": "stream",
     "text": [
      "Precio base diferente a precio inicial:  29\n",
      "Cantidades vendidas mayor al inventario incial:  6005\n",
      "Inventario real diferente a lo reportado en available_quantity:  15323\n"
     ]
    }
   ],
   "source": [
    "print(\"Precio base diferente a precio inicial: \", \n",
    "    df_items[\"id\"][df_items[\"price\"] != df_items[\"base_price\"]].count())\n",
    "print(\"Cantidades vendidas mayor al inventario incial: \", \n",
    "    df_items[\"id\"][df_items[\"sold_quantity\"] > df_items[\"initial_quantity\"]].count())\n",
    "print(\"Inventario real diferente a lo reportado en available_quantity: \", \n",
    "    df_items[\"id\"][df_items[\"initial_quantity\"]-df_items[\"sold_quantity\"] != df_items[\"available_quantity\"]].count())"
   ]
  },
  {
   "cell_type": "markdown",
   "metadata": {},
   "source": [
    "A partir de la gráfica se observa que no hay correlación entre las variables, excepto por el precio y precio base. En este caso se tiene que ambos valores son similares en la mayoría de los casos, solo 29 ítems presentan diferencias, por lo tanto esta columna también puede ser eliminada.\n",
    "\n",
    "Además con los cálculos realizados se puede comprobar que las variables correspondientes a las cantidades vendidas y el inventrio disponible en algunos casos no corresponde con la realidad. Para este caso estas variables son útiles para la construcción de variables adicionales que podrían aportar al resultado: \n",
    "- cantidad vendida (\"**sold_quantity**\") \n",
    "- monto vendido. Esta variable se puede construir a partir de la cantidad vendida y el precio, puede indicar si los items son de alto o bajo valor. **sold_amount** = sold_quantity*price\n",
    "- si hay o no inventario disponible, esta variable redefinida a partir de las disponibles (\"initial_quantity\"-\"sold_quantity\" = \"available_quantity\"), si available_quantity es mayor 1 la variable indicativa tomaría el valor de 1, por el contrario sería 0. Esta variable será llamada **is_available**"
   ]
  },
  {
   "cell_type": "code",
   "execution_count": 98,
   "metadata": {},
   "outputs": [],
   "source": [
    "# is_available\n",
    "df_items[\"available_quantity2\"] = df_items.initial_quantity - df_items.sold_quantity\n",
    "df_items[\"is_available\"] = np.where(df_items.available_quantity2 > 0, 1, 0)\n",
    "# sold_amount \n",
    "df_items[\"sold_amount\"] = df_items.sold_quantity * df_items.price\n",
    "df_items = df_items.drop(columns=[\"base_price\", \"initial_quantity\", \"available_quantity\", \"available_quantity2\"])"
   ]
  },
  {
   "cell_type": "markdown",
   "metadata": {},
   "source": [
    "#### Variables categóricas\n",
    "\n",
    "- Identificar categorías dentro de cada variable\n",
    "- Limpiar datos para que las categorías sean consistentes\n",
    "- Binning de categorias: unir niveles"
   ]
  },
  {
   "cell_type": "code",
   "execution_count": 99,
   "metadata": {},
   "outputs": [
    {
     "data": {
      "text/plain": [
       "<AxesSubplot:>"
      ]
     },
     "execution_count": 99,
     "metadata": {},
     "output_type": "execute_result"
    },
    {
     "data": {
      "image/png": "[encoded data removed]",
      "text/plain": [
       "<Figure size 600x200 with 1 Axes>"
      ]
     },
     "metadata": {},
     "output_type": "display_data"
    }
   ],
   "source": [
    "# seller_province (Capital Federal, Buenos Aires, Otras)\n",
    "plt.subplots(figsize=(6,2))\n",
    "df_items[\"seller_province\"] = np.where(df_items[\"seller_province\"]==\"Capital Federal\", \"CAPITAL FEDERAL\", \n",
    "np.where(df_items[\"seller_province\"]==\"Buenos Aires\", \"BUENOS AIRES\", \"Otras\"))\n",
    "df_items.seller_province.value_counts().sort_values().plot(kind = 'barh')\n"
   ]
  },
  {
   "cell_type": "code",
   "execution_count": 100,
   "metadata": {},
   "outputs": [],
   "source": [
    "# seller_city\n",
    "df_items[\"seller_city\"] = df_items['seller_city'].str.upper().str.translate(str.maketrans('', '', string.punctuation))"
   ]
  },
  {
   "cell_type": "code",
   "execution_count": 101,
   "metadata": {},
   "outputs": [
    {
     "data": {
      "text/plain": [
       "<AxesSubplot:>"
      ]
     },
     "execution_count": 101,
     "metadata": {},
     "output_type": "execute_result"
    },
    {
     "data": {
      "image/png": "[encoded data removed]",
      "text/plain": [
       "<Figure size 600x200 with 1 Axes>"
      ]
     },
     "metadata": {},
     "output_type": "display_data"
    }
   ],
   "source": [
    "# seller_loyalty\n",
    "plt.subplots(figsize=(6,2))\n",
    "df_items.seller_loyalty.value_counts().sort_values().plot(kind = 'barh')"
   ]
  },
  {
   "cell_type": "code",
   "execution_count": 102,
   "metadata": {},
   "outputs": [
    {
     "data": {
      "text/plain": [
       "<AxesSubplot:>"
      ]
     },
     "execution_count": 102,
     "metadata": {},
     "output_type": "execute_result"
    },
    {
     "data": {
      "image/png": "[encoded data removed]",
      "text/plain": [
       "<Figure size 600x200 with 1 Axes>"
      ]
     },
     "metadata": {},
     "output_type": "display_data"
    }
   ],
   "source": [
    "# shipping_mode: Binning\n",
    "plt.subplots(figsize=(6,2))\n",
    "df_items.shipping_mode.value_counts().sort_values().plot(kind = 'barh')"
   ]
  },
  {
   "cell_type": "markdown",
   "metadata": {},
   "source": [
    "Unir me1 y me2 (envios Mercado Libre) en un solo grupo y los demás en otro que corresponda a not_specified y custom."
   ]
  },
  {
   "cell_type": "code",
   "execution_count": 103,
   "metadata": {},
   "outputs": [
    {
     "data": {
      "text/plain": [
       "<AxesSubplot:>"
      ]
     },
     "execution_count": 103,
     "metadata": {},
     "output_type": "execute_result"
    },
    {
     "data": {
      "image/png": "[encoded data removed]",
      "text/plain": [
       "<Figure size 600x200 with 1 Axes>"
      ]
     },
     "metadata": {},
     "output_type": "display_data"
    }
   ],
   "source": [
    "plt.subplots(figsize=(6,2))\n",
    "df_items[\"shipping_mode_me\"] = np.where(df_items.shipping_mode == \"me1\", 1, np.where(df_items.shipping_mode == \"me2\", 1, 0))\n",
    "df_items = df_items.drop(columns=[\"shipping_mode\"])\n",
    "df_items.shipping_mode_me.value_counts().sort_values().plot(kind = 'barh')"
   ]
  },
  {
   "cell_type": "code",
   "execution_count": 104,
   "metadata": {},
   "outputs": [
    {
     "data": {
      "text/plain": [
       "<AxesSubplot:>"
      ]
     },
     "execution_count": 104,
     "metadata": {},
     "output_type": "execute_result"
    },
    {
     "data": {
      "image/png": "[encoded data removed]",
      "text/plain": [
       "<Figure size 600x200 with 1 Axes>"
      ]
     },
     "metadata": {},
     "output_type": "display_data"
    }
   ],
   "source": [
    "# shipping_admits_pickup\n",
    "plt.subplots(figsize=(6,2))\n",
    "df_items.shipping_admits_pickup = np.where(df_items.shipping_admits_pickup.str.upper() == \"TRUE\",1,0)\n",
    "df_items.shipping_admits_pickup.value_counts().sort_values().plot(kind = 'barh')"
   ]
  },
  {
   "cell_type": "code",
   "execution_count": 105,
   "metadata": {},
   "outputs": [
    {
     "data": {
      "text/plain": [
       "<AxesSubplot:>"
      ]
     },
     "execution_count": 105,
     "metadata": {},
     "output_type": "execute_result"
    },
    {
     "data": {
      "image/png": "[encoded data removed]",
      "text/plain": [
       "<Figure size 600x200 with 1 Axes>"
      ]
     },
     "metadata": {},
     "output_type": "display_data"
    }
   ],
   "source": [
    "# is_new\n",
    "plt.subplots(figsize=(6,2))\n",
    "df_items.is_new = df_items.is_new.astype('int')\n",
    "df_items.is_new.value_counts().sort_values().plot(kind = 'barh')"
   ]
  },
  {
   "cell_type": "markdown",
   "metadata": {},
   "source": [
    "#### Variables de texto\n",
    "\n",
    "- Corrección de formato\n",
    "- Texto en minúsculas\n",
    "- Eliminar puntuación de variables de texto\n",
    "- Para warranty crear variable que indique si el item ofrece o no garantía"
   ]
  },
  {
   "cell_type": "code",
   "execution_count": 106,
   "metadata": {},
   "outputs": [],
   "source": [
    "# title: Cleaning\n",
    "df_items.title = df_items.title.str.lower().str.translate(str.maketrans('', '', string.punctuation))"
   ]
  },
  {
   "cell_type": "code",
   "execution_count": 107,
   "metadata": {},
   "outputs": [
    {
     "data": {
      "text/plain": [
       "<AxesSubplot:>"
      ]
     },
     "execution_count": 107,
     "metadata": {},
     "output_type": "execute_result"
    },
    {
     "data": {
      "image/png": "[encoded data removed]",
      "text/plain": [
       "<Figure size 600x200 with 1 Axes>"
      ]
     },
     "metadata": {},
     "output_type": "display_data"
    }
   ],
   "source": [
    "# warranty: Imputing and Binning\n",
    "plt.subplots(figsize=(6,2))\n",
    "df_items.warranty = df_items.warranty.str.lower().str.translate(str.maketrans('', '', string.punctuation))\n",
    "# buscar meses y años de garantia\n",
    "df_items[\"warranty2\"] = df_items.warranty.str.extract('([0-9]+ aã±o)', expand=True)\n",
    "df_items[\"warranty3\"] = df_items.warranty.str.extract('([0-9]+ mes)', expand=True)\n",
    "df_items[\"warranty3\"] = df_items.warranty3.fillna(df_items.warranty2)\n",
    "# var dummy de garantia\n",
    "df_items.warranty = np.where(df_items.warranty3.isna() == True, 0, 1)\n",
    "df_items = df_items.drop(columns=[\"warranty2\", \"warranty3\"])\n",
    "df_items.warranty.value_counts().sort_values().plot(kind = 'barh')"
   ]
  },
  {
   "cell_type": "markdown",
   "metadata": {},
   "source": [
    "#### Variables de fecha\n",
    "\n",
    "- Rango de fecha\n",
    "- Cantidad de items en el tiempo"
   ]
  },
  {
   "cell_type": "code",
   "execution_count": 108,
   "metadata": {},
   "outputs": [
    {
     "name": "stdout",
     "output_type": "stream",
     "text": [
      "Rango de fechas:  2013-05-21 04:22:35+00:00 - 2015-10-15 09:14:30+00:00\n"
     ]
    }
   ],
   "source": [
    "# rago de fechas\n",
    "print(\"Rango de fechas: \", df[\"date_created\"].min(), \"-\", df[\"date_created\"].max())"
   ]
  },
  {
   "cell_type": "code",
   "execution_count": 109,
   "metadata": {},
   "outputs": [
    {
     "name": "stdout",
     "output_type": "stream",
     "text": [
      "Suma de ventas por año:  date_created\n",
      "2013         0.0\n",
      "2014         0.0\n",
      "2015    239697.0\n",
      "Name: sold_quantity, dtype: float64\n"
     ]
    }
   ],
   "source": [
    "# ventas por año\n",
    "print(\"Suma de ventas por año: \", df_items.sold_quantity.groupby(df[\"date_created\"].dt.year).sum())"
   ]
  },
  {
   "cell_type": "code",
   "execution_count": 110,
   "metadata": {},
   "outputs": [
    {
     "name": "stdout",
     "output_type": "stream",
     "text": [
      "Conteo de ventas por año:  date_created\n",
      "2013        9\n",
      "2014      120\n",
      "2015    99859\n",
      "Name: sold_quantity, dtype: int64\n"
     ]
    }
   ],
   "source": [
    "# ventas por año\n",
    "print(\"Conteo de ventas por año: \", df_items.sold_quantity.groupby(df[\"date_created\"].dt.year).count())"
   ]
  },
  {
   "cell_type": "markdown",
   "metadata": {},
   "source": [
    "Se indentifica que hay un total de 129 registros creados en los año 2013 y 2014, adicionalmente estos reportes no tienen ninguna venta asociada. Por lo tanto la fecha en este caso, no estaría aportado información."
   ]
  },
  {
   "cell_type": "code",
   "execution_count": 111,
   "metadata": {},
   "outputs": [],
   "source": [
    "df_items = df_items.drop(columns=[\"date_created\"])"
   ]
  },
  {
   "cell_type": "markdown",
   "metadata": {},
   "source": [
    "Una vez se realiza el análisis y transformación de todas las variables disponibles y a partir de estas se crean algunas nuevas, se tiene el siguiente conjunto de variables: "
   ]
  },
  {
   "cell_type": "code",
   "execution_count": 112,
   "metadata": {},
   "outputs": [
    {
     "name": "stdout",
     "output_type": "stream",
     "text": [
      "<class 'pandas.core.frame.DataFrame'>\n",
      "RangeIndex: 99988 entries, 0 to 99987\n",
      "Data columns (total 15 columns):\n",
      " #   Column                  Non-Null Count  Dtype   \n",
      "---  ------                  --------------  -----   \n",
      " 0   id                      99988 non-null  string  \n",
      " 1   title                   99988 non-null  string  \n",
      " 2   price                   99988 non-null  float64 \n",
      " 3   category_id             99988 non-null  category\n",
      " 4   seller_id               99988 non-null  string  \n",
      " 5   seller_province         99988 non-null  object  \n",
      " 6   seller_city             99988 non-null  object  \n",
      " 7   seller_loyalty          99988 non-null  category\n",
      " 8   shipping_admits_pickup  99988 non-null  int32   \n",
      " 9   warranty                99988 non-null  int32   \n",
      " 10  is_new                  99988 non-null  int32   \n",
      " 11  sold_quantity           99988 non-null  float64 \n",
      " 12  is_available            99988 non-null  int32   \n",
      " 13  sold_amount             99988 non-null  float64 \n",
      " 14  shipping_mode_me        99988 non-null  int32   \n",
      "dtypes: category(2), float64(3), int32(5), object(2), string(3)\n",
      "memory usage: 8.6+ MB\n"
     ]
    }
   ],
   "source": [
    "df_items.info()"
   ]
  },
  {
   "cell_type": "markdown",
   "metadata": {},
   "source": [
    "A partir de esta infromación \"limpia\" y con las dimensiones reducidas se pueden realizar varios análisis exploratorios de los datos que permitan entender mucho mejor el contexto en el que los datos están descritos. \n",
    "\n",
    "Primero veamos como se comportan las ventas dependiendo del nivel de loyality del vendedor. "
   ]
  },
  {
   "cell_type": "code",
   "execution_count": 113,
   "metadata": {},
   "outputs": [
    {
     "name": "stderr",
     "output_type": "stream",
     "text": [
      "C:\\Users\\lufbenav\\AppData\\Roaming\\Python\\Python37\\site-packages\\ipykernel_launcher.py:4: UserWarning:\n",
      "\n",
      "Matplotlib is currently using module://matplotlib_inline.backend_inline, which is a non-GUI backend, so cannot show the figure.\n",
      "\n"
     ]
    },
    {
     "data": {
      "image/png": "[encoded data removed]",
      "text/plain": [
       "<Figure size 1000x200 with 1 Axes>"
      ]
     },
     "metadata": {},
     "output_type": "display_data"
    }
   ],
   "source": [
    "# plot\n",
    "fig, ax = plt.subplots(figsize=(10,2))\n",
    "ax.plot('seller_loyalty', 'sold_quantity', data=df_items.sort_values(by=[\"seller_loyalty\"]), linestyle='none', marker='o')\n",
    "fig.show()"
   ]
  },
  {
   "cell_type": "markdown",
   "metadata": {},
   "source": [
    "Hay algunos valores de ventas altos que no permiten observar la tendencia de las ventas. En la siguiente lista se puede ver que son 13 casos en lo que esto ocurre. Para mejorar la visualización se pueden filtrar y calcular la media de las ventas para cada nivel de loyality de los vendedores. \n",
    "\n",
    "También se puede observar para cada nivel no solo el promedio de ventas sino también la cantidad de items registrados."
   ]
  },
  {
   "cell_type": "code",
   "execution_count": 114,
   "metadata": {},
   "outputs": [
    {
     "data": {
      "application/vnd.plotly.v1+json": {
       "config": {
        "plotlyServerURL": "https://plot.ly"
       },
       "data": [
        {
         "alignmentgroup": "True",
         "hovertemplate": "seller_loyalty=%{x}<br>sold_quantity=%{y}<extra></extra>",
         "legendgroup": "gold_premium",
         "marker": {
          "color": "rgb(136, 204, 238)",
          "pattern": {
           "shape": ""
          }
         },
         "name": "gold_premium",
         "offsetgroup": "gold_premium",
         "orientation": "v",
         "showlegend": true,
         "textposition": "auto",
         "type": "bar",
         "x": [
          "gold_premium"
         ],
         "xaxis": "x",
         "y": [
          35.41077844311377
         ],
         "yaxis": "y"
        },
        {
         "alignmentgroup": "True",
         "hovertemplate": "seller_loyalty=%{x}<br>sold_quantity=%{y}<extra></extra>",
         "legendgroup": "gold",
         "marker": {
          "color": "rgb(204, 102, 119)",
          "pattern": {
           "shape": ""
          }
         },
         "name": "gold",
         "offsetgroup": "gold",
         "orientation": "v",
         "showlegend": true,
         "textposition": "auto",
         "type": "bar",
         "x": [
          "gold"
         ],
         "xaxis": "x",
         "y": [
          28.652173913043477
         ],
         "yaxis": "y"
        },
        {
         "alignmentgroup": "True",
         "hovertemplate": "seller_loyalty=%{x}<br>sold_quantity=%{y}<extra></extra>",
         "legendgroup": "silver",
         "marker": {
          "color": "rgb(221, 204, 119)",
          "pattern": {
           "shape": ""
          }
         },
         "name": "silver",
         "offsetgroup": "silver",
         "orientation": "v",
         "showlegend": true,
         "textposition": "auto",
         "type": "bar",
         "x": [
          "silver"
         ],
         "xaxis": "x",
         "y": [
          6.227806430374191
         ],
         "yaxis": "y"
        },
        {
         "alignmentgroup": "True",
         "hovertemplate": "seller_loyalty=%{x}<br>sold_quantity=%{y}<extra></extra>",
         "legendgroup": "gold_special",
         "marker": {
          "color": "rgb(17, 119, 51)",
          "pattern": {
           "shape": ""
          }
         },
         "name": "gold_special",
         "offsetgroup": "gold_special",
         "orientation": "v",
         "showlegend": true,
         "textposition": "auto",
         "type": "bar",
         "x": [
          "gold_special"
         ],
         "xaxis": "x",
         "y": [
          2.977505788951373
         ],
         "yaxis": "y"
        },
        {
         "alignmentgroup": "True",
         "hovertemplate": "seller_loyalty=%{x}<br>sold_quantity=%{y}<extra></extra>",
         "legendgroup": "gold_pro",
         "marker": {
          "color": "rgb(51, 34, 136)",
          "pattern": {
           "shape": ""
          }
         },
         "name": "gold_pro",
         "offsetgroup": "gold_pro",
         "orientation": "v",
         "showlegend": true,
         "textposition": "auto",
         "type": "bar",
         "x": [
          "gold_pro"
         ],
         "xaxis": "x",
         "y": [
          1.2777777777777777
         ],
         "yaxis": "y"
        },
        {
         "alignmentgroup": "True",
         "hovertemplate": "seller_loyalty=%{x}<br>sold_quantity=%{y}<extra></extra>",
         "legendgroup": "bronze",
         "marker": {
          "color": "rgb(170, 68, 153)",
          "pattern": {
           "shape": ""
          }
         },
         "name": "bronze",
         "offsetgroup": "bronze",
         "orientation": "v",
         "showlegend": true,
         "textposition": "auto",
         "type": "bar",
         "x": [
          "bronze"
         ],
         "xaxis": "x",
         "y": [
          0.6074442315912797
         ],
         "yaxis": "y"
        },
        {
         "alignmentgroup": "True",
         "hovertemplate": "seller_loyalty=%{x}<br>sold_quantity=%{y}<extra></extra>",
         "legendgroup": "free",
         "marker": {
          "color": "rgb(68, 170, 153)",
          "pattern": {
           "shape": ""
          }
         },
         "name": "free",
         "offsetgroup": "free",
         "orientation": "v",
         "showlegend": true,
         "textposition": "auto",
         "type": "bar",
         "x": [
          "free"
         ],
         "xaxis": "x",
         "y": [
          0.12181435585690904
         ],
         "yaxis": "y"
        }
       ],
       "layout": {
        "barmode": "relative",
        "height": 400,
        "legend": {
         "title": {
          "text": "seller_loyalty"
         },
         "tracegroupgap": 0
        },
        "template": {
         "data": {
          "bar": [
           {
            "error_x": {
             "color": "#2a3f5f"
            },
            "error_y": {
             "color": "#2a3f5f"
            },
            "marker": {
             "line": {
              "color": "#E5ECF6",
              "width": 0.5
             },
             "pattern": {
              "fillmode": "overlay",
              "size": 10,
              "solidity": 0.2
             }
            },
            "type": "bar"
           }
          ],
          "barpolar": [
           {
            "marker": {
             "line": {
              "color": "#E5ECF6",
              "width": 0.5
             },
             "pattern": {
              "fillmode": "overlay",
              "size": 10,
              "solidity": 0.2
             }
            },
            "type": "barpolar"
           }
          ],
          "carpet": [
           {
            "aaxis": {
             "endlinecolor": "#2a3f5f",
             "gridcolor": "white",
             "linecolor": "white",
             "minorgridcolor": "white",
             "startlinecolor": "#2a3f5f"
            },
            "baxis": {
             "endlinecolor": "#2a3f5f",
             "gridcolor": "white",
             "linecolor": "white",
             "minorgridcolor": "white",
             "startlinecolor": "#2a3f5f"
            },
            "type": "carpet"
           }
          ],
          "choropleth": [
           {
            "colorbar": {
             "outlinewidth": 0,
             "ticks": ""
            },
            "type": "choropleth"
           }
          ],
          "contour": [
           {
            "colorbar": {
             "outlinewidth": 0,
             "ticks": ""
            },
            "colorscale": [
             [
              0,
              "#0d0887"
             ],
             [
              0.1111111111111111,
              "#46039f"
             ],
             [
              0.2222222222222222,
              "#7201a8"
             ],
             [
              0.3333333333333333,
              "#9c179e"
             ],
             [
              0.4444444444444444,
              "#bd3786"
             ],
             [
              0.5555555555555556,
              "#d8576b"
             ],
             [
              0.6666666666666666,
              "#ed7953"
             ],
             [
              0.7777777777777778,
              "#fb9f3a"
             ],
             [
              0.8888888888888888,
              "#fdca26"
             ],
             [
              1,
              "#f0f921"
             ]
            ],
            "type": "contour"
           }
          ],
          "contourcarpet": [
           {
            "colorbar": {
             "outlinewidth": 0,
             "ticks": ""
            },
            "type": "contourcarpet"
           }
          ],
          "heatmap": [
           {
            "colorbar": {
             "outlinewidth": 0,
             "ticks": ""
            },
            "colorscale": [
             [
              0,
              "#0d0887"
             ],
             [
              0.1111111111111111,
              "#46039f"
             ],
             [
              0.2222222222222222,
              "#7201a8"
             ],
             [
              0.3333333333333333,
              "#9c179e"
             ],
             [
              0.4444444444444444,
              "#bd3786"
             ],
             [
              0.5555555555555556,
              "#d8576b"
             ],
             [
              0.6666666666666666,
              "#ed7953"
             ],
             [
              0.7777777777777778,
              "#fb9f3a"
             ],
             [
              0.8888888888888888,
              "#fdca26"
             ],
             [
              1,
              "#f0f921"
             ]
            ],
            "type": "heatmap"
           }
          ],
          "heatmapgl": [
           {
            "colorbar": {
             "outlinewidth": 0,
             "ticks": ""
            },
            "colorscale": [
             [
              0,
              "#0d0887"
             ],
             [
              0.1111111111111111,
              "#46039f"
             ],
             [
              0.2222222222222222,
              "#7201a8"
             ],
             [
              0.3333333333333333,
              "#9c179e"
             ],
             [
              0.4444444444444444,
              "#bd3786"
             ],
             [
              0.5555555555555556,
              "#d8576b"
             ],
             [
              0.6666666666666666,
              "#ed7953"
             ],
             [
              0.7777777777777778,
              "#fb9f3a"
             ],
             [
              0.8888888888888888,
              "#fdca26"
             ],
             [
              1,
              "#f0f921"
             ]
            ],
            "type": "heatmapgl"
           }
          ],
          "histogram": [
           {
            "marker": {
             "pattern": {
              "fillmode": "overlay",
              "size": 10,
              "solidity": 0.2
             }
            },
            "type": "histogram"
           }
          ],
          "histogram2d": [
           {
            "colorbar": {
             "outlinewidth": 0,
             "ticks": ""
            },
            "colorscale": [
             [
              0,
              "#0d0887"
             ],
             [
              0.1111111111111111,
              "#46039f"
             ],
             [
              0.2222222222222222,
              "#7201a8"
             ],
             [
              0.3333333333333333,
              "#9c179e"
             ],
             [
              0.4444444444444444,
              "#bd3786"
             ],
             [
              0.5555555555555556,
              "#d8576b"
             ],
             [
              0.6666666666666666,
              "#ed7953"
             ],
             [
              0.7777777777777778,
              "#fb9f3a"
             ],
             [
              0.8888888888888888,
              "#fdca26"
             ],
             [
              1,
              "#f0f921"
             ]
            ],
            "type": "histogram2d"
           }
          ],
          "histogram2dcontour": [
           {
            "colorbar": {
             "outlinewidth": 0,
             "ticks": ""
            },
            "colorscale": [
             [
              0,
              "#0d0887"
             ],
             [
              0.1111111111111111,
              "#46039f"
             ],
             [
              0.2222222222222222,
              "#7201a8"
             ],
             [
              0.3333333333333333,
              "#9c179e"
             ],
             [
              0.4444444444444444,
              "#bd3786"
             ],
             [
              0.5555555555555556,
              "#d8576b"
             ],
             [
              0.6666666666666666,
              "#ed7953"
             ],
             [
              0.7777777777777778,
              "#fb9f3a"
             ],
             [
              0.8888888888888888,
              "#fdca26"
             ],
             [
              1,
              "#f0f921"
             ]
            ],
            "type": "histogram2dcontour"
           }
          ],
          "mesh3d": [
           {
            "colorbar": {
             "outlinewidth": 0,
             "ticks": ""
            },
            "type": "mesh3d"
           }
          ],
          "parcoords": [
           {
            "line": {
             "colorbar": {
              "outlinewidth": 0,
              "ticks": ""
             }
            },
            "type": "parcoords"
           }
          ],
          "pie": [
           {
            "automargin": true,
            "type": "pie"
           }
          ],
          "scatter": [
           {
            "fillpattern": {
             "fillmode": "overlay",
             "size": 10,
             "solidity": 0.2
            },
            "type": "scatter"
           }
          ],
          "scatter3d": [
           {
            "line": {
             "colorbar": {
              "outlinewidth": 0,
              "ticks": ""
             }
            },
            "marker": {
             "colorbar": {
              "outlinewidth": 0,
              "ticks": ""
             }
            },
            "type": "scatter3d"
           }
          ],
          "scattercarpet": [
           {
            "marker": {
             "colorbar": {
              "outlinewidth": 0,
              "ticks": ""
             }
            },
            "type": "scattercarpet"
           }
          ],
          "scattergeo": [
           {
            "marker": {
             "colorbar": {
              "outlinewidth": 0,
              "ticks": ""
             }
            },
            "type": "scattergeo"
           }
          ],
          "scattergl": [
           {
            "marker": {
             "colorbar": {
              "outlinewidth": 0,
              "ticks": ""
             }
            },
            "type": "scattergl"
           }
          ],
          "scattermapbox": [
           {
            "marker": {
             "colorbar": {
              "outlinewidth": 0,
              "ticks": ""
             }
            },
            "type": "scattermapbox"
           }
          ],
          "scatterpolar": [
           {
            "marker": {
             "colorbar": {
              "outlinewidth": 0,
              "ticks": ""
             }
            },
            "type": "scatterpolar"
           }
          ],
          "scatterpolargl": [
           {
            "marker": {
             "colorbar": {
              "outlinewidth": 0,
              "ticks": ""
             }
            },
            "type": "scatterpolargl"
           }
          ],
          "scatterternary": [
           {
            "marker": {
             "colorbar": {
              "outlinewidth": 0,
              "ticks": ""
             }
            },
            "type": "scatterternary"
           }
          ],
          "surface": [
           {
            "colorbar": {
             "outlinewidth": 0,
             "ticks": ""
            },
            "colorscale": [
             [
              0,
              "#0d0887"
             ],
             [
              0.1111111111111111,
              "#46039f"
             ],
             [
              0.2222222222222222,
              "#7201a8"
             ],
             [
              0.3333333333333333,
              "#9c179e"
             ],
             [
              0.4444444444444444,
              "#bd3786"
             ],
             [
              0.5555555555555556,
              "#d8576b"
             ],
             [
              0.6666666666666666,
              "#ed7953"
             ],
             [
              0.7777777777777778,
              "#fb9f3a"
             ],
             [
              0.8888888888888888,
              "#fdca26"
             ],
             [
              1,
              "#f0f921"
             ]
            ],
            "type": "surface"
           }
          ],
          "table": [
           {
            "cells": {
             "fill": {
              "color": "#EBF0F8"
             },
             "line": {
              "color": "white"
             }
            },
            "header": {
             "fill": {
              "color": "#C8D4E3"
             },
             "line": {
              "color": "white"
             }
            },
            "type": "table"
           }
          ]
         },
         "layout": {
          "annotationdefaults": {
           "arrowcolor": "#2a3f5f",
           "arrowhead": 0,
           "arrowwidth": 1
          },
          "autotypenumbers": "strict",
          "coloraxis": {
           "colorbar": {
            "outlinewidth": 0,
            "ticks": ""
           }
          },
          "colorscale": {
           "diverging": [
            [
             0,
             "#8e0152"
            ],
            [
             0.1,
             "#c51b7d"
            ],
            [
             0.2,
             "#de77ae"
            ],
            [
             0.3,
             "#f1b6da"
            ],
            [
             0.4,
             "#fde0ef"
            ],
            [
             0.5,
             "#f7f7f7"
            ],
            [
             0.6,
             "#e6f5d0"
            ],
            [
             0.7,
             "#b8e186"
            ],
            [
             0.8,
             "#7fbc41"
            ],
            [
             0.9,
             "#4d9221"
            ],
            [
             1,
             "#276419"
            ]
           ],
           "sequential": [
            [
             0,
             "#0d0887"
            ],
            [
             0.1111111111111111,
             "#46039f"
            ],
            [
             0.2222222222222222,
             "#7201a8"
            ],
            [
             0.3333333333333333,
             "#9c179e"
            ],
            [
             0.4444444444444444,
             "#bd3786"
            ],
            [
             0.5555555555555556,
             "#d8576b"
            ],
            [
             0.6666666666666666,
             "#ed7953"
            ],
            [
             0.7777777777777778,
             "#fb9f3a"
            ],
            [
             0.8888888888888888,
             "#fdca26"
            ],
            [
             1,
             "#f0f921"
            ]
           ],
           "sequentialminus": [
            [
             0,
             "#0d0887"
            ],
            [
             0.1111111111111111,
             "#46039f"
            ],
            [
             0.2222222222222222,
             "#7201a8"
            ],
            [
             0.3333333333333333,
             "#9c179e"
            ],
            [
             0.4444444444444444,
             "#bd3786"
            ],
            [
             0.5555555555555556,
             "#d8576b"
            ],
            [
             0.6666666666666666,
             "#ed7953"
            ],
            [
             0.7777777777777778,
             "#fb9f3a"
            ],
            [
             0.8888888888888888,
             "#fdca26"
            ],
            [
             1,
             "#f0f921"
            ]
           ]
          },
          "colorway": [
           "#636efa",
           "#EF553B",
           "#00cc96",
           "#ab63fa",
           "#FFA15A",
           "#19d3f3",
           "#FF6692",
           "#B6E880",
           "#FF97FF",
           "#FECB52"
          ],
          "font": {
           "color": "#2a3f5f"
          },
          "geo": {
           "bgcolor": "white",
           "lakecolor": "white",
           "landcolor": "#E5ECF6",
           "showlakes": true,
           "showland": true,
           "subunitcolor": "white"
          },
          "hoverlabel": {
           "align": "left"
          },
          "hovermode": "closest",
          "mapbox": {
           "style": "light"
          },
          "paper_bgcolor": "white",
          "plot_bgcolor": "#E5ECF6",
          "polar": {
           "angularaxis": {
            "gridcolor": "white",
            "linecolor": "white",
            "ticks": ""
           },
           "bgcolor": "#E5ECF6",
           "radialaxis": {
            "gridcolor": "white",
            "linecolor": "white",
            "ticks": ""
           }
          },
          "scene": {
           "xaxis": {
            "backgroundcolor": "#E5ECF6",
            "gridcolor": "white",
            "gridwidth": 2,
            "linecolor": "white",
            "showbackground": true,
            "ticks": "",
            "zerolinecolor": "white"
           },
           "yaxis": {
            "backgroundcolor": "#E5ECF6",
            "gridcolor": "white",
            "gridwidth": 2,
            "linecolor": "white",
            "showbackground": true,
            "ticks": "",
            "zerolinecolor": "white"
           },
           "zaxis": {
            "backgroundcolor": "#E5ECF6",
            "gridcolor": "white",
            "gridwidth": 2,
            "linecolor": "white",
            "showbackground": true,
            "ticks": "",
            "zerolinecolor": "white"
           }
          },
          "shapedefaults": {
           "line": {
            "color": "#2a3f5f"
           }
          },
          "ternary": {
           "aaxis": {
            "gridcolor": "white",
            "linecolor": "white",
            "ticks": ""
           },
           "baxis": {
            "gridcolor": "white",
            "linecolor": "white",
            "ticks": ""
           },
           "bgcolor": "#E5ECF6",
           "caxis": {
            "gridcolor": "white",
            "linecolor": "white",
            "ticks": ""
           }
          },
          "title": {
           "x": 0.05
          },
          "xaxis": {
           "automargin": true,
           "gridcolor": "white",
           "linecolor": "white",
           "ticks": "",
           "title": {
            "standoff": 15
           },
           "zerolinecolor": "white",
           "zerolinewidth": 2
          },
          "yaxis": {
           "automargin": true,
           "gridcolor": "white",
           "linecolor": "white",
           "ticks": "",
           "title": {
            "standoff": 15
           },
           "zerolinecolor": "white",
           "zerolinewidth": 2
          }
         }
        },
        "title": {
         "text": "Seller loyality vs Mean Sold Quantity"
        },
        "width": 800,
        "xaxis": {
         "anchor": "y",
         "categoryarray": [
          "gold_premium",
          "gold",
          "silver",
          "gold_special",
          "gold_pro",
          "bronze",
          "free"
         ],
         "categoryorder": "array",
         "domain": [
          0,
          1
         ],
         "title": {
          "text": "Seller loyality"
         }
        },
        "yaxis": {
         "anchor": "x",
         "domain": [
          0,
          1
         ],
         "title": {
          "text": "Mean Sold Quantity"
         }
        }
       }
      }
     },
     "metadata": {},
     "output_type": "display_data"
    },
    {
     "data": {
      "application/vnd.plotly.v1+json": {
       "config": {
        "plotlyServerURL": "https://plot.ly"
       },
       "data": [
        {
         "alignmentgroup": "True",
         "hovertemplate": "seller_loyalty=%{x}<br>sold_quantity=%{y}<extra></extra>",
         "legendgroup": "bronze",
         "marker": {
          "color": "rgb(136, 204, 238)",
          "pattern": {
           "shape": ""
          }
         },
         "name": "bronze",
         "offsetgroup": "bronze",
         "orientation": "v",
         "showlegend": true,
         "textposition": "auto",
         "type": "bar",
         "x": [
          "bronze"
         ],
         "xaxis": "x",
         "y": [
          63163
         ],
         "yaxis": "y"
        },
        {
         "alignmentgroup": "True",
         "hovertemplate": "seller_loyalty=%{x}<br>sold_quantity=%{y}<extra></extra>",
         "legendgroup": "free",
         "marker": {
          "color": "rgb(204, 102, 119)",
          "pattern": {
           "shape": ""
          }
         },
         "name": "free",
         "offsetgroup": "free",
         "orientation": "v",
         "showlegend": true,
         "textposition": "auto",
         "type": "bar",
         "x": [
          "free"
         ],
         "xaxis": "x",
         "y": [
          21385
         ],
         "yaxis": "y"
        },
        {
         "alignmentgroup": "True",
         "hovertemplate": "seller_loyalty=%{x}<br>sold_quantity=%{y}<extra></extra>",
         "legendgroup": "silver",
         "marker": {
          "color": "rgb(221, 204, 119)",
          "pattern": {
           "shape": ""
          }
         },
         "name": "silver",
         "offsetgroup": "silver",
         "orientation": "v",
         "showlegend": true,
         "textposition": "auto",
         "type": "bar",
         "x": [
          "silver"
         ],
         "xaxis": "x",
         "y": [
          9113
         ],
         "yaxis": "y"
        },
        {
         "alignmentgroup": "True",
         "hovertemplate": "seller_loyalty=%{x}<br>sold_quantity=%{y}<extra></extra>",
         "legendgroup": "gold_special",
         "marker": {
          "color": "rgb(17, 119, 51)",
          "pattern": {
           "shape": ""
          }
         },
         "name": "gold_special",
         "offsetgroup": "gold_special",
         "orientation": "v",
         "showlegend": true,
         "textposition": "auto",
         "type": "bar",
         "x": [
          "gold_special"
         ],
         "xaxis": "x",
         "y": [
          3023
         ],
         "yaxis": "y"
        },
        {
         "alignmentgroup": "True",
         "hovertemplate": "seller_loyalty=%{x}<br>sold_quantity=%{y}<extra></extra>",
         "legendgroup": "gold",
         "marker": {
          "color": "rgb(51, 34, 136)",
          "pattern": {
           "shape": ""
          }
         },
         "name": "gold",
         "offsetgroup": "gold",
         "orientation": "v",
         "showlegend": true,
         "textposition": "auto",
         "type": "bar",
         "x": [
          "gold"
         ],
         "xaxis": "x",
         "y": [
          2438
         ],
         "yaxis": "y"
        },
        {
         "alignmentgroup": "True",
         "hovertemplate": "seller_loyalty=%{x}<br>sold_quantity=%{y}<extra></extra>",
         "legendgroup": "gold_premium",
         "marker": {
          "color": "rgb(170, 68, 153)",
          "pattern": {
           "shape": ""
          }
         },
         "name": "gold_premium",
         "offsetgroup": "gold_premium",
         "orientation": "v",
         "showlegend": true,
         "textposition": "auto",
         "type": "bar",
         "x": [
          "gold_premium"
         ],
         "xaxis": "x",
         "y": [
          835
         ],
         "yaxis": "y"
        },
        {
         "alignmentgroup": "True",
         "hovertemplate": "seller_loyalty=%{x}<br>sold_quantity=%{y}<extra></extra>",
         "legendgroup": "gold_pro",
         "marker": {
          "color": "rgb(68, 170, 153)",
          "pattern": {
           "shape": ""
          }
         },
         "name": "gold_pro",
         "offsetgroup": "gold_pro",
         "orientation": "v",
         "showlegend": true,
         "textposition": "auto",
         "type": "bar",
         "x": [
          "gold_pro"
         ],
         "xaxis": "x",
         "y": [
          18
         ],
         "yaxis": "y"
        }
       ],
       "layout": {
        "barmode": "relative",
        "height": 400,
        "legend": {
         "title": {
          "text": "seller_loyalty"
         },
         "tracegroupgap": 0
        },
        "template": {
         "data": {
          "bar": [
           {
            "error_x": {
             "color": "#2a3f5f"
            },
            "error_y": {
             "color": "#2a3f5f"
            },
            "marker": {
             "line": {
              "color": "#E5ECF6",
              "width": 0.5
             },
             "pattern": {
              "fillmode": "overlay",
              "size": 10,
              "solidity": 0.2
             }
            },
            "type": "bar"
           }
          ],
          "barpolar": [
           {
            "marker": {
             "line": {
              "color": "#E5ECF6",
              "width": 0.5
             },
             "pattern": {
              "fillmode": "overlay",
              "size": 10,
              "solidity": 0.2
             }
            },
            "type": "barpolar"
           }
          ],
          "carpet": [
           {
            "aaxis": {
             "endlinecolor": "#2a3f5f",
             "gridcolor": "white",
             "linecolor": "white",
             "minorgridcolor": "white",
             "startlinecolor": "#2a3f5f"
            },
            "baxis": {
             "endlinecolor": "#2a3f5f",
             "gridcolor": "white",
             "linecolor": "white",
             "minorgridcolor": "white",
             "startlinecolor": "#2a3f5f"
            },
            "type": "carpet"
           }
          ],
          "choropleth": [
           {
            "colorbar": {
             "outlinewidth": 0,
             "ticks": ""
            },
            "type": "choropleth"
           }
          ],
          "contour": [
           {
            "colorbar": {
             "outlinewidth": 0,
             "ticks": ""
            },
            "colorscale": [
             [
              0,
              "#0d0887"
             ],
             [
              0.1111111111111111,
              "#46039f"
             ],
             [
              0.2222222222222222,
              "#7201a8"
             ],
             [
              0.3333333333333333,
              "#9c179e"
             ],
             [
              0.4444444444444444,
              "#bd3786"
             ],
             [
              0.5555555555555556,
              "#d8576b"
             ],
             [
              0.6666666666666666,
              "#ed7953"
             ],
             [
              0.7777777777777778,
              "#fb9f3a"
             ],
             [
              0.8888888888888888,
              "#fdca26"
             ],
             [
              1,
              "#f0f921"
             ]
            ],
            "type": "contour"
           }
          ],
          "contourcarpet": [
           {
            "colorbar": {
             "outlinewidth": 0,
             "ticks": ""
            },
            "type": "contourcarpet"
           }
          ],
          "heatmap": [
           {
            "colorbar": {
             "outlinewidth": 0,
             "ticks": ""
            },
            "colorscale": [
             [
              0,
              "#0d0887"
             ],
             [
              0.1111111111111111,
              "#46039f"
             ],
             [
              0.2222222222222222,
              "#7201a8"
             ],
             [
              0.3333333333333333,
              "#9c179e"
             ],
             [
              0.4444444444444444,
              "#bd3786"
             ],
             [
              0.5555555555555556,
              "#d8576b"
             ],
             [
              0.6666666666666666,
              "#ed7953"
             ],
             [
              0.7777777777777778,
              "#fb9f3a"
             ],
             [
              0.8888888888888888,
              "#fdca26"
             ],
             [
              1,
              "#f0f921"
             ]
            ],
            "type": "heatmap"
           }
          ],
          "heatmapgl": [
           {
            "colorbar": {
             "outlinewidth": 0,
             "ticks": ""
            },
            "colorscale": [
             [
              0,
              "#0d0887"
             ],
             [
              0.1111111111111111,
              "#46039f"
             ],
             [
              0.2222222222222222,
              "#7201a8"
             ],
             [
              0.3333333333333333,
              "#9c179e"
             ],
             [
              0.4444444444444444,
              "#bd3786"
             ],
             [
              0.5555555555555556,
              "#d8576b"
             ],
             [
              0.6666666666666666,
              "#ed7953"
             ],
             [
              0.7777777777777778,
              "#fb9f3a"
             ],
             [
              0.8888888888888888,
              "#fdca26"
             ],
             [
              1,
              "#f0f921"
             ]
            ],
            "type": "heatmapgl"
           }
          ],
          "histogram": [
           {
            "marker": {
             "pattern": {
              "fillmode": "overlay",
              "size": 10,
              "solidity": 0.2
             }
            },
            "type": "histogram"
           }
          ],
          "histogram2d": [
           {
            "colorbar": {
             "outlinewidth": 0,
             "ticks": ""
            },
            "colorscale": [
             [
              0,
              "#0d0887"
             ],
             [
              0.1111111111111111,
              "#46039f"
             ],
             [
              0.2222222222222222,
              "#7201a8"
             ],
             [
              0.3333333333333333,
              "#9c179e"
             ],
             [
              0.4444444444444444,
              "#bd3786"
             ],
             [
              0.5555555555555556,
              "#d8576b"
             ],
             [
              0.6666666666666666,
              "#ed7953"
             ],
             [
              0.7777777777777778,
              "#fb9f3a"
             ],
             [
              0.8888888888888888,
              "#fdca26"
             ],
             [
              1,
              "#f0f921"
             ]
            ],
            "type": "histogram2d"
           }
          ],
          "histogram2dcontour": [
           {
            "colorbar": {
             "outlinewidth": 0,
             "ticks": ""
            },
            "colorscale": [
             [
              0,
              "#0d0887"
             ],
             [
              0.1111111111111111,
              "#46039f"
             ],
             [
              0.2222222222222222,
              "#7201a8"
             ],
             [
              0.3333333333333333,
              "#9c179e"
             ],
             [
              0.4444444444444444,
              "#bd3786"
             ],
             [
              0.5555555555555556,
              "#d8576b"
             ],
             [
              0.6666666666666666,
              "#ed7953"
             ],
             [
              0.7777777777777778,
              "#fb9f3a"
             ],
             [
              0.8888888888888888,
              "#fdca26"
             ],
             [
              1,
              "#f0f921"
             ]
            ],
            "type": "histogram2dcontour"
           }
          ],
          "mesh3d": [
           {
            "colorbar": {
             "outlinewidth": 0,
             "ticks": ""
            },
            "type": "mesh3d"
           }
          ],
          "parcoords": [
           {
            "line": {
             "colorbar": {
              "outlinewidth": 0,
              "ticks": ""
             }
            },
            "type": "parcoords"
           }
          ],
          "pie": [
           {
            "automargin": true,
            "type": "pie"
           }
          ],
          "scatter": [
           {
            "fillpattern": {
             "fillmode": "overlay",
             "size": 10,
             "solidity": 0.2
            },
            "type": "scatter"
           }
          ],
          "scatter3d": [
           {
            "line": {
             "colorbar": {
              "outlinewidth": 0,
              "ticks": ""
             }
            },
            "marker": {
             "colorbar": {
              "outlinewidth": 0,
              "ticks": ""
             }
            },
            "type": "scatter3d"
           }
          ],
          "scattercarpet": [
           {
            "marker": {
             "colorbar": {
              "outlinewidth": 0,
              "ticks": ""
             }
            },
            "type": "scattercarpet"
           }
          ],
          "scattergeo": [
           {
            "marker": {
             "colorbar": {
              "outlinewidth": 0,
              "ticks": ""
             }
            },
            "type": "scattergeo"
           }
          ],
          "scattergl": [
           {
            "marker": {
             "colorbar": {
              "outlinewidth": 0,
              "ticks": ""
             }
            },
            "type": "scattergl"
           }
          ],
          "scattermapbox": [
           {
            "marker": {
             "colorbar": {
              "outlinewidth": 0,
              "ticks": ""
             }
            },
            "type": "scattermapbox"
           }
          ],
          "scatterpolar": [
           {
            "marker": {
             "colorbar": {
              "outlinewidth": 0,
              "ticks": ""
             }
            },
            "type": "scatterpolar"
           }
          ],
          "scatterpolargl": [
           {
            "marker": {
             "colorbar": {
              "outlinewidth": 0,
              "ticks": ""
             }
            },
            "type": "scatterpolargl"
           }
          ],
          "scatterternary": [
           {
            "marker": {
             "colorbar": {
              "outlinewidth": 0,
              "ticks": ""
             }
            },
            "type": "scatterternary"
           }
          ],
          "surface": [
           {
            "colorbar": {
             "outlinewidth": 0,
             "ticks": ""
            },
            "colorscale": [
             [
              0,
              "#0d0887"
             ],
             [
              0.1111111111111111,
              "#46039f"
             ],
             [
              0.2222222222222222,
              "#7201a8"
             ],
             [
              0.3333333333333333,
              "#9c179e"
             ],
             [
              0.4444444444444444,
              "#bd3786"
             ],
             [
              0.5555555555555556,
              "#d8576b"
             ],
             [
              0.6666666666666666,
              "#ed7953"
             ],
             [
              0.7777777777777778,
              "#fb9f3a"
             ],
             [
              0.8888888888888888,
              "#fdca26"
             ],
             [
              1,
              "#f0f921"
             ]
            ],
            "type": "surface"
           }
          ],
          "table": [
           {
            "cells": {
             "fill": {
              "color": "#EBF0F8"
             },
             "line": {
              "color": "white"
             }
            },
            "header": {
             "fill": {
              "color": "#C8D4E3"
             },
             "line": {
              "color": "white"
             }
            },
            "type": "table"
           }
          ]
         },
         "layout": {
          "annotationdefaults": {
           "arrowcolor": "#2a3f5f",
           "arrowhead": 0,
           "arrowwidth": 1
          },
          "autotypenumbers": "strict",
          "coloraxis": {
           "colorbar": {
            "outlinewidth": 0,
            "ticks": ""
           }
          },
          "colorscale": {
           "diverging": [
            [
             0,
             "#8e0152"
            ],
            [
             0.1,
             "#c51b7d"
            ],
            [
             0.2,
             "#de77ae"
            ],
            [
             0.3,
             "#f1b6da"
            ],
            [
             0.4,
             "#fde0ef"
            ],
            [
             0.5,
             "#f7f7f7"
            ],
            [
             0.6,
             "#e6f5d0"
            ],
            [
             0.7,
             "#b8e186"
            ],
            [
             0.8,
             "#7fbc41"
            ],
            [
             0.9,
             "#4d9221"
            ],
            [
             1,
             "#276419"
            ]
           ],
           "sequential": [
            [
             0,
             "#0d0887"
            ],
            [
             0.1111111111111111,
             "#46039f"
            ],
            [
             0.2222222222222222,
             "#7201a8"
            ],
            [
             0.3333333333333333,
             "#9c179e"
            ],
            [
             0.4444444444444444,
             "#bd3786"
            ],
            [
             0.5555555555555556,
             "#d8576b"
            ],
            [
             0.6666666666666666,
             "#ed7953"
            ],
            [
             0.7777777777777778,
             "#fb9f3a"
            ],
            [
             0.8888888888888888,
             "#fdca26"
            ],
            [
             1,
             "#f0f921"
            ]
           ],
           "sequentialminus": [
            [
             0,
             "#0d0887"
            ],
            [
             0.1111111111111111,
             "#46039f"
            ],
            [
             0.2222222222222222,
             "#7201a8"
            ],
            [
             0.3333333333333333,
             "#9c179e"
            ],
            [
             0.4444444444444444,
             "#bd3786"
            ],
            [
             0.5555555555555556,
             "#d8576b"
            ],
            [
             0.6666666666666666,
             "#ed7953"
            ],
            [
             0.7777777777777778,
             "#fb9f3a"
            ],
            [
             0.8888888888888888,
             "#fdca26"
            ],
            [
             1,
             "#f0f921"
            ]
           ]
          },
          "colorway": [
           "#636efa",
           "#EF553B",
           "#00cc96",
           "#ab63fa",
           "#FFA15A",
           "#19d3f3",
           "#FF6692",
           "#B6E880",
           "#FF97FF",
           "#FECB52"
          ],
          "font": {
           "color": "#2a3f5f"
          },
          "geo": {
           "bgcolor": "white",
           "lakecolor": "white",
           "landcolor": "#E5ECF6",
           "showlakes": true,
           "showland": true,
           "subunitcolor": "white"
          },
          "hoverlabel": {
           "align": "left"
          },
          "hovermode": "closest",
          "mapbox": {
           "style": "light"
          },
          "paper_bgcolor": "white",
          "plot_bgcolor": "#E5ECF6",
          "polar": {
           "angularaxis": {
            "gridcolor": "white",
            "linecolor": "white",
            "ticks": ""
           },
           "bgcolor": "#E5ECF6",
           "radialaxis": {
            "gridcolor": "white",
            "linecolor": "white",
            "ticks": ""
           }
          },
          "scene": {
           "xaxis": {
            "backgroundcolor": "#E5ECF6",
            "gridcolor": "white",
            "gridwidth": 2,
            "linecolor": "white",
            "showbackground": true,
            "ticks": "",
            "zerolinecolor": "white"
           },
           "yaxis": {
            "backgroundcolor": "#E5ECF6",
            "gridcolor": "white",
            "gridwidth": 2,
            "linecolor": "white",
            "showbackground": true,
            "ticks": "",
            "zerolinecolor": "white"
           },
           "zaxis": {
            "backgroundcolor": "#E5ECF6",
            "gridcolor": "white",
            "gridwidth": 2,
            "linecolor": "white",
            "showbackground": true,
            "ticks": "",
            "zerolinecolor": "white"
           }
          },
          "shapedefaults": {
           "line": {
            "color": "#2a3f5f"
           }
          },
          "ternary": {
           "aaxis": {
            "gridcolor": "white",
            "linecolor": "white",
            "ticks": ""
           },
           "baxis": {
            "gridcolor": "white",
            "linecolor": "white",
            "ticks": ""
           },
           "bgcolor": "#E5ECF6",
           "caxis": {
            "gridcolor": "white",
            "linecolor": "white",
            "ticks": ""
           }
          },
          "title": {
           "x": 0.05
          },
          "xaxis": {
           "automargin": true,
           "gridcolor": "white",
           "linecolor": "white",
           "ticks": "",
           "title": {
            "standoff": 15
           },
           "zerolinecolor": "white",
           "zerolinewidth": 2
          },
          "yaxis": {
           "automargin": true,
           "gridcolor": "white",
           "linecolor": "white",
           "ticks": "",
           "title": {
            "standoff": 15
           },
           "zerolinecolor": "white",
           "zerolinewidth": 2
          }
         }
        },
        "title": {
         "text": "Seller loyality vs Item Quantity"
        },
        "width": 800,
        "xaxis": {
         "anchor": "y",
         "categoryarray": [
          "bronze",
          "free",
          "silver",
          "gold_special",
          "gold",
          "gold_premium",
          "gold_pro"
         ],
         "categoryorder": "array",
         "domain": [
          0,
          1
         ],
         "title": {
          "text": "Seller loyality"
         }
        },
        "yaxis": {
         "anchor": "x",
         "domain": [
          0,
          1
         ],
         "title": {
          "text": "Item Quantity"
         }
        }
       }
      }
     },
     "metadata": {},
     "output_type": "display_data"
    }
   ],
   "source": [
    "df_items_bar = df_items[df_items.sold_quantity < 1000]\n",
    "dff = df_items_bar[['seller_loyalty','sold_quantity']].groupby(['seller_loyalty'], as_index=False).mean().set_index('seller_loyalty').reset_index().sort_values('sold_quantity',ascending = False)\n",
    "fig = px.bar(dff, x='seller_loyalty', y='sold_quantity', color = 'seller_loyalty',\n",
    "            color_discrete_sequence=px.colors.qualitative.Safe,\n",
    "            title = 'Seller loyality vs Mean Sold Quantity', \n",
    "            width=800, height=400)\n",
    "fig.update_layout(xaxis_title=\"Seller loyality\", yaxis_title=\"Mean Sold Quantity\")\n",
    "fig.show()\n",
    "\n",
    "dff = df_items_bar[['seller_loyalty','sold_quantity']].groupby(['seller_loyalty'], as_index=False).count().set_index('seller_loyalty').reset_index().sort_values('sold_quantity',ascending = False)\n",
    "fig = px.bar(dff, x='seller_loyalty', y='sold_quantity', color = 'seller_loyalty',\n",
    "            color_discrete_sequence=px.colors.qualitative.Safe,\n",
    "            title = 'Seller loyality vs Item Quantity', \n",
    "            width=800, height=400)\n",
    "fig.update_layout(xaxis_title=\"Seller loyality\", yaxis_title=\"Item Quantity\")\n",
    "fig.show()"
   ]
  },
  {
   "cell_type": "markdown",
   "metadata": {},
   "source": [
    "De lo anterior se observa que las categorías gold y premium gold son las que realizan en promedio máyor cantidad de ventas. Pero las categorías bronze y free son las que mayor cantidad de items registran. Esto indica que el nivel de loyality afecta la desición de compra de los usuarios aún teniendo muchas opciones de otros vendedores que no tengas estos niveles de loyality."
   ]
  },
  {
   "cell_type": "markdown",
   "metadata": {},
   "source": [
    "#### \n",
    "\n",
    "**Modelo predictivo:** \n",
    "\n",
    "Realice un modelo predictivo capaz de encontrar los 5 ítems más semejantes (proponga una definición de semejanza que considere el negocio de Mercado Libre).\n",
    "\n",
    "------------\n",
    "\n",
    "#### \n",
    "\n",
    "**Medida de distancia entre puntos representados por cada elemento:**\n",
    "\n",
    "Para calcular la semejanza entre un elemento y otro se realiza la medición de la distancia de cada para de elementos usando los atributos definidos por las variables disponibles. Para ellos las variables deben ser numéricas y estar en la misma escala.\n",
    "\n",
    "- Volver numéricas todas las variables\n",
    "- Scaling/Normalizar\n",
    "--------\n",
    "Por medio del preprosesamiento de las variables realizado hasta este punto solo quedan por procesar 7 variables. Para id no es necesario realizar procesamiento ya que es el identificador único, para las demás a continuación se indica que se hará en cada caso:\n",
    "\n",
    "- id (solo se debe verificar que cada elemento nuevo tenga un id y no esté vacío)\n",
    "- title (word embeddings para identifiar la semejanza entre frases)\n",
    "- category_id (variable categórica con múltiple niveles, modelo de kmodes)\n",
    "- seller_province (variable categórica con pocos niveles, dummy)\n",
    "- seller loyality (variable categórica con pocos niveles, dummy)\n",
    "- seller_id (variable categórica con múltiple niveles, modelo de kmodes)\n",
    "- seller_city (variable categórica con múltiple niveles, modelo de kmodes)\n",
    "\n",
    "Para las variables category_id, seller_id y seller_city se tienen múltiples niveles y no resulta eficiente tratarlas como las demás categóricas donde solo se realiza un encoding de cada nivel. Por lo tanto previo a la predicción de los items más similares, se realizará un modelo de clustering usando **kmodes** para agrupar los elementos en categorías más sencillas."
   ]
  },
  {
   "cell_type": "code",
   "execution_count": 115,
   "metadata": {},
   "outputs": [],
   "source": [
    "# Var cat to dummy\n",
    "df_items_dum = pd.get_dummies(df_items,columns=[\"seller_province\", \"seller_loyalty\"])"
   ]
  },
  {
   "cell_type": "markdown",
   "metadata": {},
   "source": [
    "**K Modes Clusterign**\n",
    "\n",
    "Este método es similar a k means pero agrupa los elementos basándose en la cantidad de coincidencias entre las categorías que haya para cada elemento. Se realiza sobre variables categóricas es resulta útil en este caso que tenemos variables de dimensiones altas. El proceso seguido es el siguiente: \n",
    "1. Crear DF solo con las variables categóricas de interes\n",
    "2. Escoger la cantidad óptima de k\n",
    "3. Ejecutar el modelo para esta cantidad de k\n",
    "4. Revisar la distribución de los elementos dentro de los cluster"
   ]
  },
  {
   "cell_type": "code",
   "execution_count": 116,
   "metadata": {},
   "outputs": [],
   "source": [
    "df_items_cat = df_items[[\"category_id\", \"seller_id\", \"seller_city\"]]"
   ]
  },
  {
   "cell_type": "code",
   "execution_count": 117,
   "metadata": {},
   "outputs": [
    {
     "name": "stdout",
     "output_type": "stream",
     "text": [
      "Init: initializing centroids\n",
      "Init: initializing clusters\n",
      "Starting iterations...\n",
      "Run 1, iteration: 1/100, moves: 0, cost: 287946.0\n",
      "Init: initializing centroids\n",
      "Init: initializing clusters\n",
      "Starting iterations...\n",
      "Run 1, iteration: 1/100, moves: 20, cost: 279777.0\n",
      "Init: initializing centroids\n",
      "Init: initializing clusters\n",
      "Starting iterations...\n",
      "Run 1, iteration: 1/100, moves: 20, cost: 272652.0\n",
      "Init: initializing centroids\n",
      "Init: initializing clusters\n",
      "Starting iterations...\n",
      "Run 1, iteration: 1/100, moves: 20, cost: 272195.0\n"
     ]
    },
    {
     "data": {
      "text/plain": [
       "[<matplotlib.lines.Line2D at 0x1dec7f4aeb8>]"
      ]
     },
     "execution_count": 117,
     "metadata": {},
     "output_type": "execute_result"
    },
    {
     "data": {
      "image/png": "[encoded data removed]",
      "text/plain": [
       "<Figure size 600x300 with 1 Axes>"
      ]
     },
     "metadata": {},
     "output_type": "display_data"
    }
   ],
   "source": [
    "cost = []\n",
    "for num_clusters in list(range(1,5)):\n",
    "    kmode = KModes(n_clusters=num_clusters, init = \"Cao\", n_init = 1, verbose=1)\n",
    "    kmode.fit_predict(df_items_cat)\n",
    "    cost.append(kmode.cost_)\n",
    "    \n",
    "# graficar el costo \n",
    "y = np.array([i for i in range(1,5,1)])\n",
    "plt.plot(y,cost)"
   ]
  },
  {
   "cell_type": "markdown",
   "metadata": {},
   "source": [
    "A partir de esta información se selecciona el núero de clusters como 3. "
   ]
  },
  {
   "cell_type": "code",
   "execution_count": 118,
   "metadata": {},
   "outputs": [
    {
     "name": "stdout",
     "output_type": "stream",
     "text": [
      "Initialization method and algorithm are deterministic. Setting n_init to 1.\n"
     ]
    }
   ],
   "source": [
    "# kmodes clustering \n",
    "km = KModes(n_clusters=3, verbose=1)"
   ]
  },
  {
   "cell_type": "code",
   "execution_count": 119,
   "metadata": {},
   "outputs": [
    {
     "name": "stdout",
     "output_type": "stream",
     "text": [
      "Init: initializing centroids\n",
      "Init: initializing clusters\n",
      "Starting iterations...\n",
      "Run 1, iteration: 1/100, moves: 20, cost: 272652.0\n",
      "[['MLA1227' '52340590' 'CABA']\n",
      " ['MLA2044' '58869788' 'BUENOS AIRES']\n",
      " ['MLA41287' '76404673' 'CAPITAL FEDERAL']]\n"
     ]
    }
   ],
   "source": [
    "clusters = km.fit_predict(df_items_cat)\n",
    "print(km.cluster_centroids_)"
   ]
  },
  {
   "cell_type": "markdown",
   "metadata": {},
   "source": [
    "El modelo entrenado se guarda en un .joblib para usarlo después y no repetir este paso en el proceso final."
   ]
  },
  {
   "cell_type": "code",
   "execution_count": 85,
   "metadata": {},
   "outputs": [
    {
     "data": {
      "text/plain": [
       "['model_kmodes.joblib']"
      ]
     },
     "execution_count": 85,
     "metadata": {},
     "output_type": "execute_result"
    }
   ],
   "source": [
    "# save the model\n",
    "joblib.dump(km, \"model_kmodes.joblib\")"
   ]
  },
  {
   "cell_type": "code",
   "execution_count": 86,
   "metadata": {},
   "outputs": [
    {
     "name": "stdout",
     "output_type": "stream",
     "text": [
      "Init: initializing centroids\n",
      "Init: initializing clusters\n",
      "Starting iterations...\n",
      "Run 1, iteration: 1/100, moves: 20, cost: 272652.0\n"
     ]
    },
    {
     "data": {
      "text/html": [
       "<div>\n",
       "<style scoped>\n",
       "    .dataframe tbody tr th:only-of-type {\n",
       "        vertical-align: middle;\n",
       "    }\n",
       "\n",
       "    .dataframe tbody tr th {\n",
       "        vertical-align: top;\n",
       "    }\n",
       "\n",
       "    .dataframe thead th {\n",
       "        text-align: right;\n",
       "    }\n",
       "</style>\n",
       "<table border=\"1\" class=\"dataframe\">\n",
       "  <thead>\n",
       "    <tr style=\"text-align: right;\">\n",
       "      <th></th>\n",
       "      <th>category_id</th>\n",
       "      <th>seller_id</th>\n",
       "      <th>seller_city</th>\n",
       "    </tr>\n",
       "    <tr>\n",
       "      <th>cluster_predicted</th>\n",
       "      <th></th>\n",
       "      <th></th>\n",
       "      <th></th>\n",
       "    </tr>\n",
       "  </thead>\n",
       "  <tbody>\n",
       "    <tr>\n",
       "      <th>0</th>\n",
       "      <td>85471</td>\n",
       "      <td>85471</td>\n",
       "      <td>85471</td>\n",
       "    </tr>\n",
       "    <tr>\n",
       "      <th>1</th>\n",
       "      <td>7719</td>\n",
       "      <td>7719</td>\n",
       "      <td>7719</td>\n",
       "    </tr>\n",
       "    <tr>\n",
       "      <th>2</th>\n",
       "      <td>6798</td>\n",
       "      <td>6798</td>\n",
       "      <td>6798</td>\n",
       "    </tr>\n",
       "  </tbody>\n",
       "</table>\n",
       "</div>"
      ],
      "text/plain": [
       "                   category_id  seller_id  seller_city\n",
       "cluster_predicted                                     \n",
       "0                        85471      85471        85471\n",
       "1                         7719       7719         7719\n",
       "2                         6798       6798         6798"
      ]
     },
     "execution_count": 86,
     "metadata": {},
     "output_type": "execute_result"
    }
   ],
   "source": [
    "# cargar modelo\n",
    "model = joblib.load(\"model_kmodes.joblib\")\n",
    "clusters = model.fit_predict(df_items_cat)\n",
    "\n",
    "# distribución de los elementos en cada cluster\n",
    "clustersDf = pd.DataFrame(clusters)\n",
    "clustersDf.columns = ['cluster_predicted']\n",
    "combinedDf = pd.concat([df_items_cat, clustersDf], axis = 1).reset_index()\n",
    "combinedDf = combinedDf.drop([\"index\"], axis = 1)\n",
    "combinedDf.groupby(combinedDf.cluster_predicted).count()"
   ]
  },
  {
   "cell_type": "code",
   "execution_count": 33,
   "metadata": {},
   "outputs": [],
   "source": [
    "# eliminar variables que fueron transformadas\n",
    "predictionDF = df_items_dum.drop(columns=[\"category_id\", \"seller_id\", \"seller_city\"])\n",
    "predictionDF[\"cluster_predicted\"] = combinedDf.cluster_predicted"
   ]
  },
  {
   "cell_type": "markdown",
   "metadata": {},
   "source": [
    "#### **Calcular Distancias:**\n",
    "\n",
    "Una vez se tienen todas las variables procesadas y de forma numérica se realiza el cálculo de las distancias para determinar los elementos más cercanos de un nuevo ítem que se incluya en los datos. \n",
    "\n",
    "NOTA: Es importante tener en cuenta en este punto que no se usa la variable de título, solo las variables procesadas previamente. El id no se usa para la predicción ya que es el identificador único de cada elemento. "
   ]
  },
  {
   "cell_type": "markdown",
   "metadata": {},
   "source": [
    "**Normalizar variables numéricas**"
   ]
  },
  {
   "cell_type": "code",
   "execution_count": 34,
   "metadata": {},
   "outputs": [],
   "source": [
    "def mm_norm(col,df):\n",
    "    \"\"\"\n",
    "    Caping de outliers en el percentil 99\n",
    "    Normaliza una columna usando el metodo min/max\n",
    "    \"\"\"\n",
    "    pd.set_option('mode.chained_assignment', None)\n",
    "    # caping outliers\n",
    "    df2 = df[[col]]\n",
    "    top = df2[col].quantile(0.99)\n",
    "    df2[col] = np.where(df2[col] > top, top, df2[col])\n",
    "\n",
    "    # normalization\n",
    "    x = df2.values \n",
    "    transformer = preprocessing.MinMaxScaler()\n",
    "    x_scaled = transformer.fit_transform(x)\n",
    "    DFnorm = pd.DataFrame(x_scaled, columns=[col])\n",
    "    return DFnorm\n"
   ]
  },
  {
   "cell_type": "code",
   "execution_count": 35,
   "metadata": {},
   "outputs": [],
   "source": [
    "predictionDF[\"price\"] = mm_norm(\"price\", predictionDF)\n",
    "predictionDF[\"sold_amount\"] = mm_norm(\"sold_amount\", predictionDF)\n",
    "predictionDF[\"sold_quantity\"] = mm_norm(\"sold_quantity\", predictionDF)"
   ]
  },
  {
   "cell_type": "markdown",
   "metadata": {},
   "source": [
    "**Calcular distancias entre elementos**"
   ]
  },
  {
   "cell_type": "code",
   "execution_count": 46,
   "metadata": {},
   "outputs": [],
   "source": [
    "# convertir datos a vectores\n",
    "pointXvector = predictionDF.drop(columns=[\"id\", \"title\"])\n",
    "pointXvector = pointXvector.values\n",
    "pointYvector = predictionDF.tail(1).drop(columns=[\"id\", \"title\"])\n",
    "pointYvector = pointYvector.values \n",
    "\n",
    "# calcular distancia euclidiana entre cada punto \n",
    "dist = euclidean_distances(pointXvector, pointYvector)\n",
    "\n",
    "# recuperar id de los elementos\n",
    "dist = pd.DataFrame(dist, columns = [\"distance\"])\n",
    "pointXDF = predictionDF[[\"id\", \"title\"]]\n",
    "pointYDF = predictionDF[[\"id\", \"title\"]].tail(1)\n",
    "pointXDF[\"distance\"] = dist.distance\n",
    "pointXDF[\"id_new_item\"] = pointYDF.id.max()\n",
    "pointXDF[\"title_new_item\"] = pointYDF.title.max()\n",
    "similarDF = pointXDF.sort_values(by=\"distance\").head(100)\n",
    "\n",
    "# set de elementos semejantes\n",
    "idSimilar = similarDF.id\n"
   ]
  },
  {
   "cell_type": "markdown",
   "metadata": {},
   "source": [
    "##### **Resultado para un elemento**\n",
    "\n",
    "Después de calcular las distancias tenemos el siguiente resultado.\n",
    "\n",
    "Para el ítem **MLA582542755: el fin de las libertades  benegas lynch h  usado**:"
   ]
  },
  {
   "cell_type": "code",
   "execution_count": 48,
   "metadata": {},
   "outputs": [
    {
     "data": {
      "text/html": [
       "<div>\n",
       "<style scoped>\n",
       "    .dataframe tbody tr th:only-of-type {\n",
       "        vertical-align: middle;\n",
       "    }\n",
       "\n",
       "    .dataframe tbody tr th {\n",
       "        vertical-align: top;\n",
       "    }\n",
       "\n",
       "    .dataframe thead th {\n",
       "        text-align: right;\n",
       "    }\n",
       "</style>\n",
       "<table border=\"1\" class=\"dataframe\">\n",
       "  <thead>\n",
       "    <tr style=\"text-align: right;\">\n",
       "      <th></th>\n",
       "      <th>id</th>\n",
       "      <th>title</th>\n",
       "      <th>distance</th>\n",
       "      <th>id_new_item</th>\n",
       "      <th>title_new_item</th>\n",
       "    </tr>\n",
       "  </thead>\n",
       "  <tbody>\n",
       "    <tr>\n",
       "      <th>34219</th>\n",
       "      <td>MLA581552540</td>\n",
       "      <td>guerras civiles de granada pã©rez de hita agui...</td>\n",
       "      <td>0.000000</td>\n",
       "      <td>MLA582542755</td>\n",
       "      <td>el fin de las libertades  benegas lynch h  usado</td>\n",
       "    </tr>\n",
       "    <tr>\n",
       "      <th>77813</th>\n",
       "      <td>MLA584330990</td>\n",
       "      <td>la lucha por la consolidaccion de la nacion ar...</td>\n",
       "      <td>0.000000</td>\n",
       "      <td>MLA582542755</td>\n",
       "      <td>el fin de las libertades  benegas lynch h  usado</td>\n",
       "    </tr>\n",
       "    <tr>\n",
       "      <th>61693</th>\n",
       "      <td>MLA583504664</td>\n",
       "      <td>o melhor de inezita barroso  vinilo lp brasileã±o</td>\n",
       "      <td>0.000000</td>\n",
       "      <td>MLA582542755</td>\n",
       "      <td>el fin de las libertades  benegas lynch h  usado</td>\n",
       "    </tr>\n",
       "    <tr>\n",
       "      <th>35757</th>\n",
       "      <td>MLA580889189</td>\n",
       "      <td>la mensaje de silo  ulrica ediciones 2007  tap...</td>\n",
       "      <td>0.000000</td>\n",
       "      <td>MLA582542755</td>\n",
       "      <td>el fin de las libertades  benegas lynch h  usado</td>\n",
       "    </tr>\n",
       "    <tr>\n",
       "      <th>81832</th>\n",
       "      <td>MLA583351230</td>\n",
       "      <td>enrique molinahacia una isla desierta</td>\n",
       "      <td>0.000000</td>\n",
       "      <td>MLA582542755</td>\n",
       "      <td>el fin de las libertades  benegas lynch h  usado</td>\n",
       "    </tr>\n",
       "    <tr>\n",
       "      <th>35744</th>\n",
       "      <td>MLA581806196</td>\n",
       "      <td>el compadrito y su alma  fernando guibert</td>\n",
       "      <td>0.000000</td>\n",
       "      <td>MLA582542755</td>\n",
       "      <td>el fin de las libertades  benegas lynch h  usado</td>\n",
       "    </tr>\n",
       "    <tr>\n",
       "      <th>69109</th>\n",
       "      <td>MLA579202096</td>\n",
       "      <td>cuentos de la selva  horacio quiroga  l</td>\n",
       "      <td>0.000004</td>\n",
       "      <td>MLA582542755</td>\n",
       "      <td>el fin de las libertades  benegas lynch h  usado</td>\n",
       "    </tr>\n",
       "    <tr>\n",
       "      <th>59998</th>\n",
       "      <td>MLA580094165</td>\n",
       "      <td>doctrina de monroe y cooperacion internacional</td>\n",
       "      <td>0.000008</td>\n",
       "      <td>MLA582542755</td>\n",
       "      <td>el fin de las libertades  benegas lynch h  usado</td>\n",
       "    </tr>\n",
       "    <tr>\n",
       "      <th>96025</th>\n",
       "      <td>MLA575693646</td>\n",
       "      <td>apollo four forty  gettin high on your own sup...</td>\n",
       "      <td>0.000008</td>\n",
       "      <td>MLA582542755</td>\n",
       "      <td>el fin de las libertades  benegas lynch h  usado</td>\n",
       "    </tr>\n",
       "    <tr>\n",
       "      <th>33559</th>\n",
       "      <td>MLA581551241</td>\n",
       "      <td>yanni  live at the acropolis  cd  69</td>\n",
       "      <td>0.000008</td>\n",
       "      <td>MLA582542755</td>\n",
       "      <td>el fin de las libertades  benegas lynch h  usado</td>\n",
       "    </tr>\n",
       "    <tr>\n",
       "      <th>35617</th>\n",
       "      <td>MLA578438500</td>\n",
       "      <td>peter gabriel so cd importado holanda consulte...</td>\n",
       "      <td>0.000015</td>\n",
       "      <td>MLA582542755</td>\n",
       "      <td>el fin de las libertades  benegas lynch h  usado</td>\n",
       "    </tr>\n",
       "    <tr>\n",
       "      <th>51314</th>\n",
       "      <td>MLA581636071</td>\n",
       "      <td>placa bluetooth interna hp pavilion dv2000 ser...</td>\n",
       "      <td>0.000015</td>\n",
       "      <td>MLA582542755</td>\n",
       "      <td>el fin de las libertades  benegas lynch h  usado</td>\n",
       "    </tr>\n",
       "    <tr>\n",
       "      <th>54214</th>\n",
       "      <td>MLA577455562</td>\n",
       "      <td>mã¡s allã¡ hay monstruos  margaret millar</td>\n",
       "      <td>0.000015</td>\n",
       "      <td>MLA582542755</td>\n",
       "      <td>el fin de las libertades  benegas lynch h  usado</td>\n",
       "    </tr>\n",
       "    <tr>\n",
       "      <th>34140</th>\n",
       "      <td>MLA582300665</td>\n",
       "      <td>revista extra politica y actualidad lote x 5 a...</td>\n",
       "      <td>0.000015</td>\n",
       "      <td>MLA582542755</td>\n",
       "      <td>el fin de las libertades  benegas lynch h  usado</td>\n",
       "    </tr>\n",
       "    <tr>\n",
       "      <th>41299</th>\n",
       "      <td>MLA584042524</td>\n",
       "      <td>le lion joseph kessel gallimard 1958</td>\n",
       "      <td>0.000015</td>\n",
       "      <td>MLA582542755</td>\n",
       "      <td>el fin de las libertades  benegas lynch h  usado</td>\n",
       "    </tr>\n",
       "    <tr>\n",
       "      <th>39486</th>\n",
       "      <td>MLA581665920</td>\n",
       "      <td>vinilo engelbert humperdinck  cuando me enamoro</td>\n",
       "      <td>0.000015</td>\n",
       "      <td>MLA582542755</td>\n",
       "      <td>el fin de las libertades  benegas lynch h  usado</td>\n",
       "    </tr>\n",
       "    <tr>\n",
       "      <th>39477</th>\n",
       "      <td>MLA580818550</td>\n",
       "      <td>cd nirvana  unplugged in new york</td>\n",
       "      <td>0.000015</td>\n",
       "      <td>MLA582542755</td>\n",
       "      <td>el fin de las libertades  benegas lynch h  usado</td>\n",
       "    </tr>\n",
       "    <tr>\n",
       "      <th>39360</th>\n",
       "      <td>MLA579196856</td>\n",
       "      <td>adolfo silenzi de stagni el petroleo argentino...</td>\n",
       "      <td>0.000015</td>\n",
       "      <td>MLA582542755</td>\n",
       "      <td>el fin de las libertades  benegas lynch h  usado</td>\n",
       "    </tr>\n",
       "    <tr>\n",
       "      <th>39353</th>\n",
       "      <td>MLA577813129</td>\n",
       "      <td>boletin de la biblioteca artiguista  general a...</td>\n",
       "      <td>0.000015</td>\n",
       "      <td>MLA582542755</td>\n",
       "      <td>el fin de las libertades  benegas lynch h  usado</td>\n",
       "    </tr>\n",
       "  </tbody>\n",
       "</table>\n",
       "</div>"
      ],
      "text/plain": [
       "                 id                                              title  \\\n",
       "34219  MLA581552540  guerras civiles de granada pã©rez de hita agui...   \n",
       "77813  MLA584330990  la lucha por la consolidaccion de la nacion ar...   \n",
       "61693  MLA583504664  o melhor de inezita barroso  vinilo lp brasileã±o   \n",
       "35757  MLA580889189  la mensaje de silo  ulrica ediciones 2007  tap...   \n",
       "81832  MLA583351230              enrique molinahacia una isla desierta   \n",
       "35744  MLA581806196          el compadrito y su alma  fernando guibert   \n",
       "69109  MLA579202096            cuentos de la selva  horacio quiroga  l   \n",
       "59998  MLA580094165     doctrina de monroe y cooperacion internacional   \n",
       "96025  MLA575693646  apollo four forty  gettin high on your own sup...   \n",
       "33559  MLA581551241               yanni  live at the acropolis  cd  69   \n",
       "35617  MLA578438500  peter gabriel so cd importado holanda consulte...   \n",
       "51314  MLA581636071  placa bluetooth interna hp pavilion dv2000 ser...   \n",
       "54214  MLA577455562          mã¡s allã¡ hay monstruos  margaret millar   \n",
       "34140  MLA582300665  revista extra politica y actualidad lote x 5 a...   \n",
       "41299  MLA584042524               le lion joseph kessel gallimard 1958   \n",
       "39486  MLA581665920    vinilo engelbert humperdinck  cuando me enamoro   \n",
       "39477  MLA580818550                  cd nirvana  unplugged in new york   \n",
       "39360  MLA579196856  adolfo silenzi de stagni el petroleo argentino...   \n",
       "39353  MLA577813129  boletin de la biblioteca artiguista  general a...   \n",
       "\n",
       "       distance   id_new_item  \\\n",
       "34219  0.000000  MLA582542755   \n",
       "77813  0.000000  MLA582542755   \n",
       "61693  0.000000  MLA582542755   \n",
       "35757  0.000000  MLA582542755   \n",
       "81832  0.000000  MLA582542755   \n",
       "35744  0.000000  MLA582542755   \n",
       "69109  0.000004  MLA582542755   \n",
       "59998  0.000008  MLA582542755   \n",
       "96025  0.000008  MLA582542755   \n",
       "33559  0.000008  MLA582542755   \n",
       "35617  0.000015  MLA582542755   \n",
       "51314  0.000015  MLA582542755   \n",
       "54214  0.000015  MLA582542755   \n",
       "34140  0.000015  MLA582542755   \n",
       "41299  0.000015  MLA582542755   \n",
       "39486  0.000015  MLA582542755   \n",
       "39477  0.000015  MLA582542755   \n",
       "39360  0.000015  MLA582542755   \n",
       "39353  0.000015  MLA582542755   \n",
       "\n",
       "                                          title_new_item  \n",
       "34219  el fin de las libertades  benegas lynch h  usado   \n",
       "77813  el fin de las libertades  benegas lynch h  usado   \n",
       "61693  el fin de las libertades  benegas lynch h  usado   \n",
       "35757  el fin de las libertades  benegas lynch h  usado   \n",
       "81832  el fin de las libertades  benegas lynch h  usado   \n",
       "35744  el fin de las libertades  benegas lynch h  usado   \n",
       "69109  el fin de las libertades  benegas lynch h  usado   \n",
       "59998  el fin de las libertades  benegas lynch h  usado   \n",
       "96025  el fin de las libertades  benegas lynch h  usado   \n",
       "33559  el fin de las libertades  benegas lynch h  usado   \n",
       "35617  el fin de las libertades  benegas lynch h  usado   \n",
       "51314  el fin de las libertades  benegas lynch h  usado   \n",
       "54214  el fin de las libertades  benegas lynch h  usado   \n",
       "34140  el fin de las libertades  benegas lynch h  usado   \n",
       "41299  el fin de las libertades  benegas lynch h  usado   \n",
       "39486  el fin de las libertades  benegas lynch h  usado   \n",
       "39477  el fin de las libertades  benegas lynch h  usado   \n",
       "39360  el fin de las libertades  benegas lynch h  usado   \n",
       "39353  el fin de las libertades  benegas lynch h  usado   "
      ]
     },
     "execution_count": 48,
     "metadata": {},
     "output_type": "execute_result"
    }
   ],
   "source": [
    "similarDF[1:10]"
   ]
  },
  {
   "cell_type": "markdown",
   "metadata": {},
   "source": [
    "Se puede identificar que las distancias son iguales o muy cercanas a 0, es decir que para todas las variables contempladas los elementos son iguales. Revisando el título se puede observar que la mayoría corresponden a libros por lo tanto no está errada la similitud. Sin embargo, a partir del contenido del título se podría realizar una mejor diferenciación entre elementos ya que es la única variable de ingreso libre que puede contener cualquier tipo de palabras y permitir diferenciar un elemento de otro."
   ]
  },
  {
   "cell_type": "markdown",
   "metadata": {},
   "source": [
    "##### **Calcular similitud entre frases**\n",
    "\n",
    "Después de encontrar el grupo de elementos más cercanos entre si hallados por medio de la minimización de la distancia euclidiana entre los puntos, se puede realizar el análisis de la similitud entre los párrafos que contiene la variable *title*. Este proceso se realiza solo sobre el grupo previamente escogido por el método de la distancia euclidiana ya que computacionalmente sería muy lento calcularlo sobre todo el data set cada vez que se ingresa un nuevo elemento. \n",
    "\n",
    "Este proceso permite calcular la similitud entre dos frases. El modelo usado está basado en el paquete **sentence_transformers** que ha sido entrenado para frases en español. \n",
    "\n",
    "Toda la documentación y referencias pueden encontarse en el siguiente link: [sentence_similarity_spanish_es](https://huggingface.co/hiiamsid/sentence_similarity_spanish_es).\n",
    "\n",
    "Este modelo realiza para cada frase o párrafo un vector de densidad de 768 componentes para describir cada frase, con esta descomposición del texto luego se pueden utilizar diferentes medidas de distancia para determinar la similitud entre dos frases, siendo 1 el valor más alto. \n",
    "\n",
    "En este caso este modelo será usado como complemento al cálculo de las distancias, primero al título del nuevo elemento se le calcula la similitud con todos los elementos del data set y los valores resultantes se usan como variable numérica adicional dentro del cálculo de las distancias. "
   ]
  },
  {
   "cell_type": "code",
   "execution_count": 39,
   "metadata": {},
   "outputs": [],
   "source": [
    "# cargar modelo\n",
    "model = SentenceTransformer('sentence_similarity_spanish_es')"
   ]
  },
  {
   "cell_type": "markdown",
   "metadata": {},
   "source": [
    "El modelo inicialmente calcula todas las características para cada uno de los elementos, esto es un proceso que toma mucho tiempo por lo tanto se realiza una vez y se pueden almacenar el resultado en un archivo externo. "
   ]
  },
  {
   "cell_type": "markdown",
   "metadata": {},
   "source": [
    "**** Previamente ejecutado, el arhchivo es de 300 MB y cuenta con el vector de características para cada ítem de la lista, se puede volver a cargar y cada vez que ingrese un elemento nuevo se añade al tensor donde está almacenado. Idealmente este tipo de información estaría almacenada en una base de datos donde pueda ser consultada cada vez que se ejecute el proceso. \n",
    "\n",
    "A continuación está descrito el código utilizado para realizar la creación de los vectores de características. "
   ]
  },
  {
   "cell_type": "markdown",
   "metadata": {},
   "source": [
    "#### Todos los elementos del dataset\n",
    "allItemsData = list(predictionDF.title)\n",
    "\n",
    "#### Embedding\n",
    "embeddingsAll = model.encode(allItemsData, convert_to_tensor=True)\n",
    "\n",
    "#### Save to file\n",
    "\n",
    "torch.save(embeddingsAll, 'tensor_embeddingsAll.pt')\n",
    "\n",
    "buffer = io.BytesIO()\n",
    "\n",
    "torch.save(embeddingsAll, buffer)"
   ]
  },
  {
   "cell_type": "code",
   "execution_count": 40,
   "metadata": {},
   "outputs": [],
   "source": [
    "# cargar tensor de caracteristicas\n",
    "embeddingsAll = torch.load('tensor_embeddingsAll.pt')"
   ]
  },
  {
   "cell_type": "code",
   "execution_count": 65,
   "metadata": {},
   "outputs": [],
   "source": [
    "# filtrar tensor \n",
    "indices = torch.tensor([similarDF.index.values])\n",
    "embeddingsFiltered = torch.index_select(embeddingsAll, 0, indices.squeeze())"
   ]
  },
  {
   "cell_type": "code",
   "execution_count": 75,
   "metadata": {},
   "outputs": [],
   "source": [
    "# reiniciar index de similares\n",
    "similarDF = similarDF.reset_index()\n",
    "\n",
    "# Establecer grupo de párrafo de comparación (elemento nuevo)\n",
    "newItemsDF = predictionDF.tail(1)\n",
    "\n",
    "# Solo titulos\n",
    "newItems = list(newItemsDF.title)\n",
    "newItems = newItems * len(similarDF)\n",
    "\n",
    "# Embedding\n",
    "embeddings1 = model.encode(newItems, convert_to_tensor=True)\n",
    "\n",
    "# Cosine-similarities\n",
    "cosineScores = util.cos_sim(embeddings1, embeddingsFiltered)\n",
    "indices = torch.tensor([0])\n",
    "cosineScores = torch.index_select(cosineScores, 0, indices)\n",
    "cosineScores = pd.DataFrame(cosineScores.numpy(), index=[\"sentence_similarity\"]).T"
   ]
  },
  {
   "cell_type": "code",
   "execution_count": 76,
   "metadata": {},
   "outputs": [],
   "source": [
    "# unir al dataframe inicial \n",
    "similarDF[\"sentence_similarity\"] = cosineScores"
   ]
  },
  {
   "cell_type": "code",
   "execution_count": 82,
   "metadata": {},
   "outputs": [
    {
     "data": {
      "text/html": [
       "<div>\n",
       "<style scoped>\n",
       "    .dataframe tbody tr th:only-of-type {\n",
       "        vertical-align: middle;\n",
       "    }\n",
       "\n",
       "    .dataframe tbody tr th {\n",
       "        vertical-align: top;\n",
       "    }\n",
       "\n",
       "    .dataframe thead th {\n",
       "        text-align: right;\n",
       "    }\n",
       "</style>\n",
       "<table border=\"1\" class=\"dataframe\">\n",
       "  <thead>\n",
       "    <tr style=\"text-align: right;\">\n",
       "      <th></th>\n",
       "      <th>index</th>\n",
       "      <th>id</th>\n",
       "      <th>title</th>\n",
       "      <th>distance</th>\n",
       "      <th>id_new_item</th>\n",
       "      <th>title_new_item</th>\n",
       "      <th>sentence_similarity</th>\n",
       "    </tr>\n",
       "  </thead>\n",
       "  <tbody>\n",
       "    <tr>\n",
       "      <th>95</th>\n",
       "      <td>49125</td>\n",
       "      <td>MLA574708657</td>\n",
       "      <td>de la necesidad al servicio  r braun f frydman...</td>\n",
       "      <td>0.000015</td>\n",
       "      <td>MLA582542755</td>\n",
       "      <td>el fin de las libertades  benegas lynch h  usado</td>\n",
       "      <td>0.421768</td>\n",
       "    </tr>\n",
       "    <tr>\n",
       "      <th>39</th>\n",
       "      <td>53140</td>\n",
       "      <td>MLA576347390</td>\n",
       "      <td>dvd el ãltimo dã­a no manâ´s land de tanovic</td>\n",
       "      <td>0.000015</td>\n",
       "      <td>MLA582542755</td>\n",
       "      <td>el fin de las libertades  benegas lynch h  usado</td>\n",
       "      <td>0.335028</td>\n",
       "    </tr>\n",
       "    <tr>\n",
       "      <th>35</th>\n",
       "      <td>52566</td>\n",
       "      <td>MLA581367102</td>\n",
       "      <td>ciclismoremigio saavedrac de kuysschertapa de ...</td>\n",
       "      <td>0.000015</td>\n",
       "      <td>MLA582542755</td>\n",
       "      <td>el fin de las libertades  benegas lynch h  usado</td>\n",
       "      <td>0.328369</td>\n",
       "    </tr>\n",
       "    <tr>\n",
       "      <th>63</th>\n",
       "      <td>64153</td>\n",
       "      <td>MLA578015991</td>\n",
       "      <td>hambrientas de lucro  robert j ledogar</td>\n",
       "      <td>0.000015</td>\n",
       "      <td>MLA582542755</td>\n",
       "      <td>el fin de las libertades  benegas lynch h  usado</td>\n",
       "      <td>0.327226</td>\n",
       "    </tr>\n",
       "    <tr>\n",
       "      <th>75</th>\n",
       "      <td>57910</td>\n",
       "      <td>MLA577738554</td>\n",
       "      <td>divorcio en el aire gonzalo  torne</td>\n",
       "      <td>0.000015</td>\n",
       "      <td>MLA582542755</td>\n",
       "      <td>el fin de las libertades  benegas lynch h  usado</td>\n",
       "      <td>0.325607</td>\n",
       "    </tr>\n",
       "  </tbody>\n",
       "</table>\n",
       "</div>"
      ],
      "text/plain": [
       "    index            id                                              title  \\\n",
       "95  49125  MLA574708657  de la necesidad al servicio  r braun f frydman...   \n",
       "39  53140  MLA576347390      dvd el ãltimo dã­a no manâ´s land de tanovic   \n",
       "35  52566  MLA581367102  ciclismoremigio saavedrac de kuysschertapa de ...   \n",
       "63  64153  MLA578015991             hambrientas de lucro  robert j ledogar   \n",
       "75  57910  MLA577738554                 divorcio en el aire gonzalo  torne   \n",
       "\n",
       "    distance   id_new_item                                     title_new_item  \\\n",
       "95  0.000015  MLA582542755  el fin de las libertades  benegas lynch h  usado    \n",
       "39  0.000015  MLA582542755  el fin de las libertades  benegas lynch h  usado    \n",
       "35  0.000015  MLA582542755  el fin de las libertades  benegas lynch h  usado    \n",
       "63  0.000015  MLA582542755  el fin de las libertades  benegas lynch h  usado    \n",
       "75  0.000015  MLA582542755  el fin de las libertades  benegas lynch h  usado    \n",
       "\n",
       "    sentence_similarity  \n",
       "95             0.421768  \n",
       "39             0.335028  \n",
       "35             0.328369  \n",
       "63             0.327226  \n",
       "75             0.325607  "
      ]
     },
     "execution_count": 82,
     "metadata": {},
     "output_type": "execute_result"
    }
   ],
   "source": [
    "# 5 más similares\n",
    "similarDF5 = similarDF.sort_values(by=\"sentence_similarity\", ascending=False)\n",
    "similarDF5 = similarDF5[1:6]\n",
    "\n",
    "similarDF5"
   ]
  }
 ],
 "metadata": {
  "kernelspec": {
   "display_name": "Python 3.7.2 64-bit",
   "language": "python",
   "name": "python3"
  },
  "language_info": {
   "codemirror_mode": {
    "name": "ipython",
    "version": 3
   },
   "file_extension": ".py",
   "mimetype": "text/x-python",
   "name": "python",
   "nbconvert_exporter": "python",
   "pygments_lexer": "ipython3",
   "version": "3.7.2"
  },
  "orig_nbformat": 4,
  "vscode": {
   "interpreter": {
    "hash": "c3cbfe00fa03cad26407499c7903700b772c97f40225b9a9765eabfef08a260b"
   }
  }
 },
 "nbformat": 4,
 "nbformat_minor": 2
}
